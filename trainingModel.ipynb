{
 "cells": [
  {
   "cell_type": "markdown",
   "metadata": {},
   "source": [
    "# Reading Data:"
   ]
  },
  {
   "cell_type": "markdown",
   "metadata": {},
   "source": [
    "This code is used to train text categorization models. The best model is selected and used to categorize the advertisements by service professionals on the connector application."
   ]
  },
  {
   "cell_type": "code",
   "execution_count": 167,
   "metadata": {},
   "outputs": [],
   "source": [
    "import pandas as pd\n",
    "df = pd.read_excel('adsdatanew.xlsx')\n",
    "import numpy as np"
   ]
  },
  {
   "cell_type": "code",
   "execution_count": 168,
   "metadata": {},
   "outputs": [
    {
     "data": {
      "text/html": [
       "<div>\n",
       "<style scoped>\n",
       "    .dataframe tbody tr th:only-of-type {\n",
       "        vertical-align: middle;\n",
       "    }\n",
       "\n",
       "    .dataframe tbody tr th {\n",
       "        vertical-align: top;\n",
       "    }\n",
       "\n",
       "    .dataframe thead th {\n",
       "        text-align: right;\n",
       "    }\n",
       "</style>\n",
       "<table border=\"1\" class=\"dataframe\">\n",
       "  <thead>\n",
       "    <tr style=\"text-align: right;\">\n",
       "      <th></th>\n",
       "      <th>content</th>\n",
       "      <th>category</th>\n",
       "    </tr>\n",
       "  </thead>\n",
       "  <tbody>\n",
       "    <tr>\n",
       "      <th>0</th>\n",
       "      <td>You need chocolate when life gives you bitter ...</td>\n",
       "      <td>Food and Beverages</td>\n",
       "    </tr>\n",
       "    <tr>\n",
       "      <th>1</th>\n",
       "      <td>Instant noode a smart soution for your hunger ...</td>\n",
       "      <td>Food and Beverages</td>\n",
       "    </tr>\n",
       "    <tr>\n",
       "      <th>2</th>\n",
       "      <td>Make your purchases using our visa card for se...</td>\n",
       "      <td>Banking Insurance and Financial Services</td>\n",
       "    </tr>\n",
       "    <tr>\n",
       "      <th>3</th>\n",
       "      <td>We are the authorize agent to help workers and...</td>\n",
       "      <td>Household and Office Supplies</td>\n",
       "    </tr>\n",
       "    <tr>\n",
       "      <th>4</th>\n",
       "      <td>Vacancy announcement for the new recruiment fo...</td>\n",
       "      <td>Recruiment</td>\n",
       "    </tr>\n",
       "  </tbody>\n",
       "</table>\n",
       "</div>"
      ],
      "text/plain": [
       "                                             content  \\\n",
       "0  You need chocolate when life gives you bitter ...   \n",
       "1  Instant noode a smart soution for your hunger ...   \n",
       "2  Make your purchases using our visa card for se...   \n",
       "3  We are the authorize agent to help workers and...   \n",
       "4  Vacancy announcement for the new recruiment fo...   \n",
       "\n",
       "                                   category  \n",
       "0                        Food and Beverages  \n",
       "1                        Food and Beverages  \n",
       "2  Banking Insurance and Financial Services  \n",
       "3             Household and Office Supplies  \n",
       "4                                Recruiment  "
      ]
     },
     "execution_count": 168,
     "metadata": {},
     "output_type": "execute_result"
    }
   ],
   "source": [
    "df.head()"
   ]
  },
  {
   "cell_type": "markdown",
   "metadata": {},
   "source": [
    "# Resolving spelling mistakes"
   ]
  },
  {
   "cell_type": "code",
   "execution_count": 169,
   "metadata": {},
   "outputs": [],
   "source": [
    "df=df.replace('Recruiment','Recruitment') "
   ]
  },
  {
   "cell_type": "markdown",
   "metadata": {},
   "source": [
    "# Analyzing data"
   ]
  },
  {
   "cell_type": "code",
   "execution_count": 170,
   "metadata": {},
   "outputs": [
    {
     "data": {
      "text/plain": [
       "category\n",
       "Engineering and Technology                  221\n",
       "Sports                                      213\n",
       "Education                                   212\n",
       "Banking Insurance and Financial Services    212\n",
       "Entertainment                               210\n",
       "Travel and Tourism                          210\n",
       "Household and Office Supplies               209\n",
       "Recruitment                                 204\n",
       "Agriculture                                 201\n",
       "Construction                                201\n",
       "Food and Beverages                          200\n",
       "Health and Medicine                         200\n",
       "Fashion and Beauty                          200\n",
       "Machinery and Instruments                   200\n",
       "Energy and Environment                      200\n",
       "Arts                                        199\n",
       "Hotel and Restaurants                       199\n",
       "Real Estate                                 186\n",
       "Government and Social Sector                131\n",
       "Name: count, dtype: int64"
      ]
     },
     "execution_count": 170,
     "metadata": {},
     "output_type": "execute_result"
    }
   ],
   "source": [
    "df.category.value_counts()"
   ]
  },
  {
   "cell_type": "code",
   "execution_count": 171,
   "metadata": {},
   "outputs": [
    {
     "name": "stdout",
     "output_type": "stream",
     "text": [
      "content\n",
      "category\n"
     ]
    }
   ],
   "source": [
    "for col in df.columns:\n",
    "    print (col)"
   ]
  },
  {
   "cell_type": "code",
   "execution_count": 172,
   "metadata": {},
   "outputs": [
    {
     "data": {
      "text/plain": [
       "Index(['content', 'category'], dtype='object')"
      ]
     },
     "execution_count": 172,
     "metadata": {},
     "output_type": "execute_result"
    }
   ],
   "source": [
    "df.columns"
   ]
  },
  {
   "cell_type": "markdown",
   "metadata": {},
   "source": []
  },
  {
   "cell_type": "code",
   "execution_count": null,
   "metadata": {},
   "outputs": [],
   "source": []
  },
  {
   "cell_type": "markdown",
   "metadata": {},
   "source": [
    "# Data visualization"
   ]
  },
  {
   "cell_type": "code",
   "execution_count": 173,
   "metadata": {},
   "outputs": [
    {
     "data": {
      "image/png": "[encoded data removed]",
      "text/plain": [
       "<Figure size 1000x400 with 1 Axes>"
      ]
     },
     "metadata": {},
     "output_type": "display_data"
    }
   ],
   "source": [
    "import matplotlib.pyplot as plt\n",
    "plt.figure(figsize=(10,4))\n",
    "df.category.value_counts().plot(kind='bar');"
   ]
  },
  {
   "cell_type": "markdown",
   "metadata": {},
   "source": [
    "# Data Cleansing"
   ]
  },
  {
   "cell_type": "code",
   "execution_count": 174,
   "metadata": {},
   "outputs": [
    {
     "name": "stderr",
     "output_type": "stream",
     "text": [
      "[nltk_data] Downloading package punkt to\n",
      "[nltk_data]     /Users/subashchandrasapkota/nltk_data...\n",
      "[nltk_data]   Package punkt is already up-to-date!\n",
      "[nltk_data] Downloading package stopwords to\n",
      "[nltk_data]     /Users/subashchandrasapkota/nltk_data...\n",
      "[nltk_data]   Package stopwords is already up-to-date!\n"
     ]
    }
   ],
   "source": [
    "import re\n",
    "import pandas as pd\n",
    "import numpy as np\n",
    "import nltk\n",
    "\n",
    "nltk.download('punkt')\n",
    "nltk.download('stopwords')\n",
    "\n",
    "from nltk.corpus import stopwords"
   ]
  },
  {
   "cell_type": "markdown",
   "metadata": {},
   "source": [
    "## Removing Empty Cells"
   ]
  },
  {
   "cell_type": "code",
   "execution_count": 175,
   "metadata": {},
   "outputs": [],
   "source": [
    "\n",
    "df = df[pd.notnull(df['category'])]"
   ]
  },
  {
   "cell_type": "markdown",
   "metadata": {},
   "source": [
    " Total words Count"
   ]
  },
  {
   "cell_type": "code",
   "execution_count": 176,
   "metadata": {},
   "outputs": [
    {
     "name": "stdout",
     "output_type": "stream",
     "text": [
      "Total words or features:\n",
      "43236\n"
     ]
    }
   ],
   "source": [
    "\n",
    "print('Total words or features:')\n",
    "print(df['content'].apply(lambda x: len(x.split(' '))).sum())\n"
   ]
  },
  {
   "cell_type": "markdown",
   "metadata": {},
   "source": [
    "## StopWords Removal"
   ]
  },
  {
   "cell_type": "code",
   "execution_count": 177,
   "metadata": {},
   "outputs": [],
   "source": [
    "REPLACE_BY_SPACE_RE = re.compile('[/(){}\\[\\]\\|@,;]')\n",
    "BAD_SYMBOLS_RE = re.compile('[^0-9a-z #+_]')\n",
    "\n",
    "STOPWORDS = set(stopwords.words('english'))"
   ]
  },
  {
   "cell_type": "code",
   "execution_count": 178,
   "metadata": {},
   "outputs": [],
   "source": [
    "#prepare text clean function\n",
    "\n",
    "def clean_text(text):\n",
    "    \"\"\"\n",
    "        text: a string\n",
    "        \n",
    "        return: modified initial string\n",
    "    \"\"\"\n",
    "   ## we dont need text = BeautifulSoup(text, \"lxml\").text # HTML decoding\n",
    "    text = text.lower() # lowercase text\n",
    "    text = REPLACE_BY_SPACE_RE.sub(' ', text) # replace REPLACE_BY_SPACE_RE symbols by space in text\n",
    "    text = BAD_SYMBOLS_RE.sub('', text) # delete symbols which are in BAD_SYMBOLS_RE from text\n",
    "    text = ' '.join(word for word in text.split() if word not in STOPWORDS) # delete stopwors from text\n",
    "    return text\n",
    "    \n",
    "\n"
   ]
  },
  {
   "cell_type": "code",
   "execution_count": 179,
   "metadata": {},
   "outputs": [],
   "source": [
    "#apply text cleaner\n",
    "df['content'] = df['content'].apply(clean_text)"
   ]
  },
  {
   "cell_type": "code",
   "execution_count": 180,
   "metadata": {},
   "outputs": [
    {
     "name": "stdout",
     "output_type": "stream",
     "text": [
      "Total number of words or features:\n",
      "27784\n"
     ]
    }
   ],
   "source": [
    "## again count total number of features \n",
    "print('Total number of words or features:')\n",
    "print(df['content'].apply(lambda x: len(x.split(' '))).sum())\n",
    "\n"
   ]
  },
  {
   "cell_type": "code",
   "execution_count": 181,
   "metadata": {},
   "outputs": [
    {
     "data": {
      "image/png": "[encoded data removed]",
      "text/plain": [
       "<Figure size 1000x400 with 1 Axes>"
      ]
     },
     "metadata": {},
     "output_type": "display_data"
    }
   ],
   "source": [
    "import matplotlib.pyplot as plt\n",
    "plt.figure(figsize=(10,4))\n",
    "df.category.value_counts().plot(kind='bar');"
   ]
  },
  {
   "cell_type": "markdown",
   "metadata": {},
   "source": [
    "# Randomize ordering of data"
   ]
  },
  {
   "cell_type": "code",
   "execution_count": 182,
   "metadata": {},
   "outputs": [
    {
     "name": "stdout",
     "output_type": "stream",
     "text": [
      "                                                content  \\\n",
      "1011  math techer needed qualifiactionbachelor exper...   \n",
      "3443  access clean drinking water community safe wat...   \n",
      "2902                  35 discount different accessories   \n",
      "897   525 horses working way animal rights could com...   \n",
      "2293  ourservicescenter diagnostic medicinecenter ne...   \n",
      "...                                                 ...   \n",
      "1130  flower vase plants natural decoration house fr...   \n",
      "1294                       offer laptop limited periods   \n",
      "860   looking tamato farming contact us different pr...   \n",
      "3507        invest multifamily properties steady income   \n",
      "3174        contact us door door delivery kitchen items   \n",
      "\n",
      "                           category  \n",
      "1011                      Education  \n",
      "3443   Government and Social Sector  \n",
      "2902                   Construction  \n",
      "897       Machinery and Instruments  \n",
      "2293            Health and Medicine  \n",
      "...                             ...  \n",
      "1130  Household and Office Supplies  \n",
      "1294     Engineering and Technology  \n",
      "860                     Agriculture  \n",
      "3507                    Real Estate  \n",
      "3174          Hotel and Restaurants  \n",
      "\n",
      "[3808 rows x 2 columns]\n"
     ]
    }
   ],
   "source": [
    "## Step added : 30 sep\n",
    "# Reorder rows in random order\n",
    "df_random_order = df.sample(frac=1, random_state=42)  # Setting a random_state for reproducibility\n",
    "\n",
    "print(df_random_order)"
   ]
  },
  {
   "cell_type": "markdown",
   "metadata": {},
   "source": [
    "# Train Test Split"
   ]
  },
  {
   "cell_type": "code",
   "execution_count": 183,
   "metadata": {},
   "outputs": [],
   "source": [
    "##split to train and test set \n",
    "from sklearn.model_selection import train_test_split\n",
    "\n",
    "X = df.content\n",
    "y = df.category\n",
    "X_train, X_test, y_train, y_test = train_test_split(X, y, test_size=0.25, random_state = 42)\n"
   ]
  },
  {
   "cell_type": "code",
   "execution_count": 184,
   "metadata": {},
   "outputs": [
    {
     "data": {
      "text/plain": [
       "532            farm fresh eggs nutritions health benefits\n",
       "1507    windproof jacket sale cashback brand offers st...\n",
       "874                               staff nurse anm gda g4s\n",
       "2323    buy agricultural tools single places best pric...\n",
       "2226    weather proof paints enamel decorate homes office\n",
       "                              ...                        \n",
       "1130    flower vase plants natural decoration house fr...\n",
       "1294                         offer laptop limited periods\n",
       "860     looking tamato farming contact us different pr...\n",
       "3507          invest multifamily properties steady income\n",
       "3174          contact us door door delivery kitchen items\n",
       "Name: content, Length: 2856, dtype: object"
      ]
     },
     "execution_count": 184,
     "metadata": {},
     "output_type": "execute_result"
    }
   ],
   "source": [
    "X_train"
   ]
  },
  {
   "cell_type": "markdown",
   "metadata": {},
   "source": [
    "# Training Multinomial Naive Bayes Classifier Using SkLearn "
   ]
  },
  {
   "cell_type": "code",
   "execution_count": 185,
   "metadata": {},
   "outputs": [
    {
     "name": "stdout",
     "output_type": "stream",
     "text": [
      "CPU times: user 1e+03 ns, sys: 0 ns, total: 1e+03 ns\n",
      "Wall time: 3.1 µs\n",
      "['Education' 'Household and Office Supplies' 'Construction'\n",
      " 'Machinery and Instruments' 'Health and Medicine' 'Travel and Tourism'\n",
      " 'Travel and Tourism' 'Food and Beverages' 'Construction'\n",
      " 'Energy and Environment' 'Engineering and Technology' 'Entertainment'\n",
      " 'Education' 'Engineering and Technology' 'Construction'\n",
      " 'Hotel and Restaurants' 'Hotel and Restaurants' 'Travel and Tourism'\n",
      " 'Banking Insurance and Financial Services' 'Hotel and Restaurants'\n",
      " 'Engineering and Technology' 'Real Estate'\n",
      " 'Banking Insurance and Financial Services' 'Government and Social Sector'\n",
      " 'Real Estate' 'Government and Social Sector' 'Entertainment'\n",
      " 'Energy and Environment' 'Government and Social Sector' 'Real Estate'\n",
      " 'Sports' 'Banking Insurance and Financial Services' 'Health and Medicine'\n",
      " 'Machinery and Instruments' 'Hotel and Restaurants' 'Food and Beverages'\n",
      " 'Arts' 'Government and Social Sector' 'Travel and Tourism'\n",
      " 'Food and Beverages' 'Machinery and Instruments' 'Education'\n",
      " 'Real Estate' 'Recruitment' 'Construction' 'Fashion and Beauty'\n",
      " 'Government and Social Sector' 'Food and Beverages' 'Agriculture'\n",
      " 'Household and Office Supplies' 'Construction' 'Real Estate'\n",
      " 'Food and Beverages' 'Sports' 'Household and Office Supplies'\n",
      " 'Engineering and Technology' 'Arts' 'Hotel and Restaurants' 'Real Estate'\n",
      " 'Agriculture' 'Food and Beverages' 'Sports' 'Health and Medicine'\n",
      " 'Food and Beverages' 'Engineering and Technology' 'Recruitment'\n",
      " 'Fashion and Beauty' 'Construction' 'Arts' 'Real Estate' 'Recruitment'\n",
      " 'Fashion and Beauty' 'Recruitment' 'Recruitment' 'Real Estate'\n",
      " 'Agriculture' 'Banking Insurance and Financial Services' 'Entertainment'\n",
      " 'Household and Office Supplies' 'Education' 'Food and Beverages'\n",
      " 'Real Estate' 'Entertainment' 'Fashion and Beauty' 'Fashion and Beauty'\n",
      " 'Entertainment' 'Hotel and Restaurants'\n",
      " 'Banking Insurance and Financial Services' 'Arts' 'Construction'\n",
      " 'Energy and Environment' 'Recruitment' 'Agriculture'\n",
      " 'Hotel and Restaurants' 'Travel and Tourism' 'Fashion and Beauty'\n",
      " 'Hotel and Restaurants' 'Food and Beverages' 'Sports'\n",
      " 'Energy and Environment' 'Recruitment' 'Machinery and Instruments'\n",
      " 'Household and Office Supplies' 'Hotel and Restaurants'\n",
      " 'Engineering and Technology' 'Household and Office Supplies' 'Arts'\n",
      " 'Engineering and Technology' 'Fashion and Beauty' 'Food and Beverages'\n",
      " 'Fashion and Beauty' 'Agriculture' 'Construction' 'Travel and Tourism'\n",
      " 'Household and Office Supplies' 'Energy and Environment' 'Entertainment'\n",
      " 'Machinery and Instruments' 'Construction' 'Engineering and Technology'\n",
      " 'Engineering and Technology' 'Banking Insurance and Financial Services'\n",
      " 'Fashion and Beauty' 'Construction' 'Energy and Environment' 'Sports'\n",
      " 'Travel and Tourism' 'Construction' 'Real Estate' 'Fashion and Beauty'\n",
      " 'Arts' 'Travel and Tourism' 'Banking Insurance and Financial Services'\n",
      " 'Fashion and Beauty' 'Education' 'Government and Social Sector' 'Sports'\n",
      " 'Recruitment' 'Real Estate' 'Construction' 'Arts' 'Entertainment'\n",
      " 'Household and Office Supplies' 'Real Estate' 'Recruitment' 'Arts'\n",
      " 'Government and Social Sector' 'Construction' 'Travel and Tourism'\n",
      " 'Engineering and Technology' 'Fashion and Beauty'\n",
      " 'Household and Office Supplies' 'Education'\n",
      " 'Government and Social Sector' 'Machinery and Instruments' 'Construction'\n",
      " 'Sports' 'Arts' 'Recruitment' 'Travel and Tourism' 'Agriculture'\n",
      " 'Entertainment' 'Household and Office Supplies' 'Arts'\n",
      " 'Household and Office Supplies' 'Sports' 'Agriculture'\n",
      " 'Household and Office Supplies' 'Household and Office Supplies'\n",
      " 'Household and Office Supplies' 'Agriculture' 'Construction' 'Arts'\n",
      " 'Sports' 'Recruitment' 'Travel and Tourism' 'Entertainment'\n",
      " 'Engineering and Technology' 'Agriculture' 'Arts' 'Health and Medicine'\n",
      " 'Education' 'Arts' 'Recruitment' 'Household and Office Supplies'\n",
      " 'Health and Medicine' 'Travel and Tourism'\n",
      " 'Banking Insurance and Financial Services' 'Sports' 'Arts' 'Construction'\n",
      " 'Real Estate' 'Engineering and Technology' 'Entertainment'\n",
      " 'Engineering and Technology' 'Construction' 'Travel and Tourism'\n",
      " 'Food and Beverages' 'Arts' 'Hotel and Restaurants' 'Health and Medicine'\n",
      " 'Health and Medicine' 'Recruitment' 'Entertainment' 'Travel and Tourism'\n",
      " 'Travel and Tourism' 'Health and Medicine' 'Entertainment' 'Construction'\n",
      " 'Sports' 'Machinery and Instruments' 'Energy and Environment'\n",
      " 'Engineering and Technology' 'Food and Beverages' 'Health and Medicine'\n",
      " 'Food and Beverages' 'Engineering and Technology'\n",
      " 'Household and Office Supplies' 'Real Estate' 'Energy and Environment'\n",
      " 'Banking Insurance and Financial Services' 'Travel and Tourism'\n",
      " 'Health and Medicine' 'Entertainment'\n",
      " 'Banking Insurance and Financial Services' 'Machinery and Instruments'\n",
      " 'Construction' 'Education' 'Fashion and Beauty' 'Education' 'Sports'\n",
      " 'Education' 'Food and Beverages' 'Arts' 'Hotel and Restaurants'\n",
      " 'Health and Medicine' 'Recruitment' 'Hotel and Restaurants' 'Arts'\n",
      " 'Food and Beverages' 'Machinery and Instruments' 'Arts'\n",
      " 'Banking Insurance and Financial Services' 'Engineering and Technology'\n",
      " 'Recruitment' 'Real Estate' 'Machinery and Instruments' 'Real Estate'\n",
      " 'Government and Social Sector' 'Recruitment' 'Engineering and Technology'\n",
      " 'Health and Medicine' 'Food and Beverages' 'Food and Beverages'\n",
      " 'Fashion and Beauty' 'Machinery and Instruments' 'Education'\n",
      " 'Travel and Tourism' 'Engineering and Technology'\n",
      " 'Machinery and Instruments' 'Agriculture' 'Agriculture'\n",
      " 'Banking Insurance and Financial Services' 'Engineering and Technology'\n",
      " 'Construction' 'Education' 'Recruitment' 'Fashion and Beauty'\n",
      " 'Real Estate' 'Banking Insurance and Financial Services'\n",
      " 'Engineering and Technology' 'Sports' 'Fashion and Beauty'\n",
      " 'Travel and Tourism' 'Travel and Tourism' 'Energy and Environment'\n",
      " 'Health and Medicine' 'Hotel and Restaurants' 'Arts' 'Entertainment'\n",
      " 'Food and Beverages' 'Engineering and Technology' 'Education'\n",
      " 'Government and Social Sector' 'Banking Insurance and Financial Services'\n",
      " 'Entertainment' 'Real Estate' 'Recruitment'\n",
      " 'Household and Office Supplies' 'Engineering and Technology'\n",
      " 'Hotel and Restaurants' 'Agriculture' 'Recruitment' 'Recruitment'\n",
      " 'Hotel and Restaurants' 'Household and Office Supplies'\n",
      " 'Household and Office Supplies' 'Government and Social Sector'\n",
      " 'Agriculture' 'Government and Social Sector' 'Agriculture'\n",
      " 'Household and Office Supplies' 'Government and Social Sector'\n",
      " 'Household and Office Supplies'\n",
      " 'Banking Insurance and Financial Services' 'Sports'\n",
      " 'Household and Office Supplies' 'Government and Social Sector'\n",
      " 'Agriculture' 'Recruitment' 'Education' 'Travel and Tourism'\n",
      " 'Construction' 'Agriculture' 'Real Estate' 'Fashion and Beauty'\n",
      " 'Fashion and Beauty' 'Agriculture' 'Real Estate'\n",
      " 'Machinery and Instruments' 'Banking Insurance and Financial Services'\n",
      " 'Arts' 'Recruitment' 'Machinery and Instruments'\n",
      " 'Government and Social Sector' 'Fashion and Beauty' 'Education'\n",
      " 'Machinery and Instruments' 'Education' 'Sports' 'Energy and Environment'\n",
      " 'Banking Insurance and Financial Services' 'Education'\n",
      " 'Government and Social Sector' 'Machinery and Instruments'\n",
      " 'Food and Beverages' 'Construction' 'Food and Beverages' 'Entertainment'\n",
      " 'Recruitment' 'Energy and Environment' 'Energy and Environment'\n",
      " 'Hotel and Restaurants' 'Sports' 'Recruitment'\n",
      " 'Banking Insurance and Financial Services' 'Entertainment' 'Arts'\n",
      " 'Agriculture' 'Agriculture' 'Hotel and Restaurants'\n",
      " 'Hotel and Restaurants' 'Hotel and Restaurants' 'Food and Beverages'\n",
      " 'Food and Beverages' 'Engineering and Technology' 'Construction' 'Sports'\n",
      " 'Agriculture' 'Construction' 'Construction'\n",
      " 'Household and Office Supplies' 'Energy and Environment' 'Real Estate'\n",
      " 'Agriculture' 'Arts' 'Food and Beverages' 'Arts' 'Entertainment'\n",
      " 'Energy and Environment' 'Household and Office Supplies' 'Entertainment'\n",
      " 'Agriculture' 'Entertainment' 'Real Estate' 'Arts'\n",
      " 'Household and Office Supplies' 'Household and Office Supplies'\n",
      " 'Household and Office Supplies' 'Energy and Environment' 'Entertainment'\n",
      " 'Recruitment' 'Hotel and Restaurants' 'Food and Beverages'\n",
      " 'Machinery and Instruments' 'Household and Office Supplies'\n",
      " 'Health and Medicine' 'Energy and Environment' 'Health and Medicine'\n",
      " 'Sports' 'Construction' 'Agriculture' 'Arts' 'Agriculture' 'Recruitment'\n",
      " 'Hotel and Restaurants' 'Machinery and Instruments' 'Food and Beverages'\n",
      " 'Banking Insurance and Financial Services' 'Recruitment'\n",
      " 'Hotel and Restaurants' 'Construction' 'Health and Medicine'\n",
      " 'Food and Beverages' 'Real Estate' 'Fashion and Beauty'\n",
      " 'Banking Insurance and Financial Services' 'Agriculture'\n",
      " 'Health and Medicine' 'Agriculture' 'Recruitment'\n",
      " 'Government and Social Sector' 'Banking Insurance and Financial Services'\n",
      " 'Hotel and Restaurants' 'Food and Beverages' 'Food and Beverages'\n",
      " 'Agriculture' 'Food and Beverages' 'Hotel and Restaurants'\n",
      " 'Travel and Tourism' 'Arts' 'Health and Medicine' 'Sports'\n",
      " 'Entertainment' 'Energy and Environment' 'Energy and Environment'\n",
      " 'Travel and Tourism' 'Recruitment' 'Arts' 'Entertainment' 'Arts'\n",
      " 'Entertainment' 'Fashion and Beauty' 'Hotel and Restaurants'\n",
      " 'Food and Beverages' 'Fashion and Beauty'\n",
      " 'Banking Insurance and Financial Services' 'Construction' 'Real Estate'\n",
      " 'Travel and Tourism' 'Household and Office Supplies' 'Travel and Tourism'\n",
      " 'Machinery and Instruments' 'Energy and Environment' 'Recruitment'\n",
      " 'Health and Medicine' 'Recruitment' 'Real Estate' 'Travel and Tourism'\n",
      " 'Agriculture' 'Construction' 'Food and Beverages' 'Travel and Tourism'\n",
      " 'Banking Insurance and Financial Services'\n",
      " 'Household and Office Supplies' 'Real Estate' 'Sports'\n",
      " 'Fashion and Beauty' 'Education' 'Agriculture'\n",
      " 'Machinery and Instruments' 'Fashion and Beauty' 'Fashion and Beauty'\n",
      " 'Food and Beverages' 'Government and Social Sector' 'Food and Beverages'\n",
      " 'Arts' 'Household and Office Supplies' 'Health and Medicine'\n",
      " 'Hotel and Restaurants' 'Entertainment' 'Construction' 'Sports'\n",
      " 'Hotel and Restaurants' 'Travel and Tourism' 'Entertainment'\n",
      " 'Agriculture' 'Food and Beverages' 'Health and Medicine' 'Recruitment'\n",
      " 'Agriculture' 'Sports' 'Travel and Tourism' 'Food and Beverages'\n",
      " 'Real Estate' 'Arts' 'Arts' 'Banking Insurance and Financial Services'\n",
      " 'Entertainment' 'Household and Office Supplies'\n",
      " 'Banking Insurance and Financial Services' 'Hotel and Restaurants'\n",
      " 'Health and Medicine' 'Fashion and Beauty' 'Food and Beverages'\n",
      " 'Energy and Environment' 'Hotel and Restaurants' 'Arts'\n",
      " 'Hotel and Restaurants' 'Engineering and Technology'\n",
      " 'Machinery and Instruments' 'Fashion and Beauty' 'Entertainment' 'Sports'\n",
      " 'Machinery and Instruments' 'Government and Social Sector' 'Construction'\n",
      " 'Entertainment' 'Health and Medicine' 'Agriculture' 'Agriculture'\n",
      " 'Banking Insurance and Financial Services' 'Hotel and Restaurants'\n",
      " 'Machinery and Instruments' 'Education' 'Education' 'Construction'\n",
      " 'Energy and Environment' 'Energy and Environment' 'Real Estate'\n",
      " 'Engineering and Technology' 'Sports'\n",
      " 'Banking Insurance and Financial Services' 'Engineering and Technology'\n",
      " 'Energy and Environment' 'Hotel and Restaurants' 'Recruitment'\n",
      " 'Machinery and Instruments' 'Fashion and Beauty' 'Fashion and Beauty'\n",
      " 'Household and Office Supplies'\n",
      " 'Banking Insurance and Financial Services' 'Hotel and Restaurants'\n",
      " 'Fashion and Beauty' 'Education' 'Construction'\n",
      " 'Household and Office Supplies' 'Entertainment' 'Entertainment'\n",
      " 'Food and Beverages' 'Entertainment' 'Education' 'Agriculture'\n",
      " 'Construction' 'Household and Office Supplies' 'Food and Beverages'\n",
      " 'Arts' 'Arts' 'Health and Medicine' 'Travel and Tourism' 'Recruitment'\n",
      " 'Fashion and Beauty' 'Hotel and Restaurants' 'Engineering and Technology'\n",
      " 'Travel and Tourism' 'Banking Insurance and Financial Services'\n",
      " 'Fashion and Beauty' 'Banking Insurance and Financial Services'\n",
      " 'Energy and Environment' 'Machinery and Instruments'\n",
      " 'Energy and Environment' 'Household and Office Supplies' 'Entertainment'\n",
      " 'Education' 'Agriculture' 'Entertainment' 'Arts'\n",
      " 'Household and Office Supplies' 'Energy and Environment'\n",
      " 'Energy and Environment' 'Machinery and Instruments'\n",
      " 'Banking Insurance and Financial Services'\n",
      " 'Household and Office Supplies' 'Sports' 'Energy and Environment'\n",
      " 'Health and Medicine' 'Real Estate' 'Construction' 'Arts'\n",
      " 'Engineering and Technology' 'Food and Beverages' 'Entertainment'\n",
      " 'Energy and Environment' 'Entertainment' 'Fashion and Beauty'\n",
      " 'Agriculture' 'Health and Medicine' 'Sports' 'Health and Medicine'\n",
      " 'Construction' 'Hotel and Restaurants' 'Food and Beverages'\n",
      " 'Banking Insurance and Financial Services' 'Machinery and Instruments'\n",
      " 'Arts' 'Engineering and Technology' 'Education'\n",
      " 'Household and Office Supplies' 'Hotel and Restaurants'\n",
      " 'Hotel and Restaurants' 'Education' 'Engineering and Technology'\n",
      " 'Recruitment' 'Hotel and Restaurants' 'Fashion and Beauty' 'Construction'\n",
      " 'Banking Insurance and Financial Services' 'Energy and Environment'\n",
      " 'Education' 'Construction' 'Health and Medicine' 'Hotel and Restaurants'\n",
      " 'Fashion and Beauty' 'Entertainment' 'Arts' 'Travel and Tourism'\n",
      " 'Machinery and Instruments' 'Household and Office Supplies'\n",
      " 'Machinery and Instruments' 'Household and Office Supplies' 'Recruitment'\n",
      " 'Real Estate' 'Engineering and Technology' 'Education' 'Sports'\n",
      " 'Hotel and Restaurants' 'Entertainment' 'Agriculture'\n",
      " 'Fashion and Beauty' 'Energy and Environment' 'Travel and Tourism'\n",
      " 'Fashion and Beauty' 'Food and Beverages' 'Government and Social Sector'\n",
      " 'Recruitment' 'Banking Insurance and Financial Services' 'Agriculture'\n",
      " 'Household and Office Supplies' 'Household and Office Supplies'\n",
      " 'Government and Social Sector' 'Household and Office Supplies'\n",
      " 'Health and Medicine' 'Arts' 'Hotel and Restaurants'\n",
      " 'Banking Insurance and Financial Services' 'Sports' 'Travel and Tourism'\n",
      " 'Real Estate' 'Government and Social Sector' 'Health and Medicine'\n",
      " 'Food and Beverages' 'Construction' 'Fashion and Beauty'\n",
      " 'Energy and Environment' 'Recruitment' 'Sports' 'Education' 'Education'\n",
      " 'Hotel and Restaurants' 'Machinery and Instruments' 'Education'\n",
      " 'Travel and Tourism' 'Fashion and Beauty' 'Education'\n",
      " 'Food and Beverages' 'Construction' 'Health and Medicine' 'Entertainment'\n",
      " 'Sports' 'Banking Insurance and Financial Services' 'Real Estate'\n",
      " 'Household and Office Supplies' 'Sports' 'Hotel and Restaurants'\n",
      " 'Recruitment' 'Travel and Tourism' 'Health and Medicine' 'Sports'\n",
      " 'Food and Beverages' 'Fashion and Beauty' 'Engineering and Technology'\n",
      " 'Fashion and Beauty' 'Energy and Environment' 'Health and Medicine'\n",
      " 'Health and Medicine' 'Fashion and Beauty'\n",
      " 'Household and Office Supplies' 'Real Estate' 'Entertainment'\n",
      " 'Energy and Environment' 'Arts' 'Machinery and Instruments'\n",
      " 'Engineering and Technology' 'Construction' 'Agriculture'\n",
      " 'Hotel and Restaurants' 'Sports' 'Machinery and Instruments'\n",
      " 'Agriculture' 'Education' 'Recruitment' 'Engineering and Technology'\n",
      " 'Arts' 'Energy and Environment' 'Health and Medicine'\n",
      " 'Food and Beverages' 'Household and Office Supplies'\n",
      " 'Household and Office Supplies' 'Government and Social Sector'\n",
      " 'Machinery and Instruments' 'Hotel and Restaurants' 'Entertainment'\n",
      " 'Agriculture' 'Travel and Tourism' 'Engineering and Technology'\n",
      " 'Construction' 'Government and Social Sector' 'Hotel and Restaurants'\n",
      " 'Hotel and Restaurants' 'Sports' 'Government and Social Sector'\n",
      " 'Fashion and Beauty' 'Energy and Environment' 'Sports'\n",
      " 'Fashion and Beauty' 'Health and Medicine' 'Recruitment'\n",
      " 'Hotel and Restaurants' 'Engineering and Technology' 'Fashion and Beauty'\n",
      " 'Entertainment' 'Entertainment' 'Engineering and Technology' 'Sports'\n",
      " 'Health and Medicine' 'Recruitment' 'Hotel and Restaurants' 'Education'\n",
      " 'Entertainment' 'Real Estate' 'Household and Office Supplies'\n",
      " 'Food and Beverages' 'Household and Office Supplies' 'Sports'\n",
      " 'Construction' 'Hotel and Restaurants'\n",
      " 'Banking Insurance and Financial Services' 'Real Estate'\n",
      " 'Travel and Tourism' 'Household and Office Supplies' 'Agriculture'\n",
      " 'Sports' 'Entertainment' 'Food and Beverages' 'Food and Beverages'\n",
      " 'Agriculture' 'Hotel and Restaurants' 'Fashion and Beauty' 'Recruitment'\n",
      " 'Hotel and Restaurants' 'Arts' 'Health and Medicine' 'Fashion and Beauty'\n",
      " 'Food and Beverages' 'Construction' 'Education' 'Food and Beverages'\n",
      " 'Energy and Environment' 'Entertainment' 'Recruitment'\n",
      " 'Fashion and Beauty' 'Energy and Environment'\n",
      " 'Household and Office Supplies' 'Sports' 'Education' 'Agriculture'\n",
      " 'Machinery and Instruments' 'Government and Social Sector'\n",
      " 'Health and Medicine' 'Engineering and Technology' 'Food and Beverages'\n",
      " 'Real Estate' 'Entertainment' 'Machinery and Instruments'\n",
      " 'Machinery and Instruments' 'Banking Insurance and Financial Services'\n",
      " 'Health and Medicine' 'Agriculture' 'Education' 'Construction'\n",
      " 'Engineering and Technology' 'Arts' 'Fashion and Beauty'\n",
      " 'Fashion and Beauty' 'Agriculture' 'Sports' 'Construction' 'Construction'\n",
      " 'Health and Medicine' 'Fashion and Beauty' 'Sports'\n",
      " 'Household and Office Supplies' 'Energy and Environment' 'Construction'\n",
      " 'Household and Office Supplies' 'Recruitment' 'Real Estate' 'Real Estate'\n",
      " 'Fashion and Beauty' 'Government and Social Sector' 'Recruitment'\n",
      " 'Sports' 'Energy and Environment' 'Construction'\n",
      " 'Machinery and Instruments' 'Fashion and Beauty' 'Sports'\n",
      " 'Machinery and Instruments' 'Sports' 'Real Estate' 'Real Estate'\n",
      " 'Health and Medicine' 'Banking Insurance and Financial Services'\n",
      " 'Education' 'Energy and Environment' 'Food and Beverages'\n",
      " 'Government and Social Sector' 'Health and Medicine'\n",
      " 'Engineering and Technology' 'Entertainment' 'Travel and Tourism'\n",
      " 'Recruitment' 'Food and Beverages' 'Energy and Environment'\n",
      " 'Engineering and Technology' 'Sports' 'Agriculture' 'Health and Medicine'\n",
      " 'Hotel and Restaurants' 'Sports' 'Arts' 'Machinery and Instruments'\n",
      " 'Household and Office Supplies' 'Food and Beverages' 'Construction'\n",
      " 'Arts' 'Recruitment' 'Real Estate' 'Health and Medicine'\n",
      " 'Engineering and Technology' 'Agriculture' 'Energy and Environment'\n",
      " 'Government and Social Sector' 'Entertainment' 'Energy and Environment'\n",
      " 'Household and Office Supplies' 'Food and Beverages' 'Recruitment'\n",
      " 'Construction' 'Arts' 'Sports' 'Fashion and Beauty'\n",
      " 'Engineering and Technology' 'Banking Insurance and Financial Services'\n",
      " 'Fashion and Beauty' 'Sports' 'Hotel and Restaurants'\n",
      " 'Household and Office Supplies' 'Travel and Tourism' 'Real Estate'\n",
      " 'Sports' 'Engineering and Technology' 'Sports' 'Energy and Environment'\n",
      " 'Sports' 'Agriculture' 'Construction' 'Construction'\n",
      " 'Banking Insurance and Financial Services' 'Machinery and Instruments'\n",
      " 'Household and Office Supplies' 'Real Estate' 'Hotel and Restaurants'\n",
      " 'Banking Insurance and Financial Services'\n",
      " 'Banking Insurance and Financial Services' 'Recruitment'\n",
      " 'Travel and Tourism' 'Travel and Tourism' 'Sports'\n",
      " 'Banking Insurance and Financial Services' 'Sports' 'Fashion and Beauty'\n",
      " 'Arts' 'Household and Office Supplies' 'Government and Social Sector'\n",
      " 'Agriculture' 'Recruitment' 'Hotel and Restaurants'\n",
      " 'Hotel and Restaurants' 'Sports' 'Food and Beverages' 'Sports'\n",
      " 'Health and Medicine' 'Travel and Tourism' 'Arts' 'Construction'\n",
      " 'Real Estate' 'Food and Beverages' 'Health and Medicine' 'Sports'\n",
      " 'Agriculture' 'Household and Office Supplies' 'Travel and Tourism'\n",
      " 'Hotel and Restaurants' 'Banking Insurance and Financial Services'\n",
      " 'Fashion and Beauty' 'Hotel and Restaurants' 'Health and Medicine'\n",
      " 'Sports' 'Machinery and Instruments' 'Entertainment' 'Food and Beverages'\n",
      " 'Education' 'Entertainment' 'Machinery and Instruments' 'Real Estate'\n",
      " 'Real Estate' 'Banking Insurance and Financial Services'\n",
      " 'Machinery and Instruments' 'Hotel and Restaurants'\n",
      " 'Household and Office Supplies' 'Health and Medicine' 'Sports'\n",
      " 'Hotel and Restaurants' 'Energy and Environment'\n",
      " 'Household and Office Supplies' 'Machinery and Instruments'\n",
      " 'Travel and Tourism' 'Recruitment' 'Health and Medicine' 'Entertainment'\n",
      " 'Construction' 'Entertainment' 'Fashion and Beauty'\n",
      " 'Energy and Environment' 'Household and Office Supplies'\n",
      " 'Banking Insurance and Financial Services'\n",
      " 'Household and Office Supplies' 'Health and Medicine'\n",
      " 'Fashion and Beauty' 'Education' 'Construction']\n",
      "accuracy 0.9054621848739496\n",
      "                                          precision    recall  f1-score   support\n",
      "\n",
      "                             Recruitment       0.92      0.94      0.93        50\n",
      "                      Food and Beverages       0.88      0.91      0.89        46\n",
      "                      Fashion and Beauty       0.85      0.91      0.88        44\n",
      "              Machineries and Instrument       0.96      0.90      0.93        60\n",
      "                      Travel and Tourism       0.95      0.80      0.87        46\n",
      "                  Energy and Environment       0.98      0.90      0.94        51\n",
      "                             Agriculture       0.89      0.78      0.83        50\n",
      "                     Health and Medicine       0.85      0.78      0.81        58\n",
      "                           Constructions       0.95      0.97      0.96        58\n",
      "Banking Insurance and Financial Services       0.88      0.91      0.89        56\n",
      "                   Hotel and Restaurants       0.77      0.79      0.78        29\n",
      "                               Education       1.00      0.96      0.98        53\n",
      "                           Entertainment       0.89      1.00      0.94        54\n",
      "                                  Sports       0.77      0.96      0.85        51\n",
      "             Engineering  and Technology       0.98      0.98      0.98        44\n",
      "           Household and Office Supplies       0.91      0.88      0.89        48\n",
      "               Machinery and Instruments       0.92      0.84      0.88        57\n",
      "                             Real Estate       0.91      0.98      0.95        54\n",
      "            Government and Social Sector       0.95      0.98      0.97        43\n",
      "\n",
      "                                accuracy                           0.91       952\n",
      "                               macro avg       0.91      0.90      0.90       952\n",
      "                            weighted avg       0.91      0.91      0.91       952\n",
      "\n"
     ]
    }
   ],
   "source": [
    "from sklearn.naive_bayes import MultinomialNB\n",
    "from sklearn.pipeline import Pipeline\n",
    "from sklearn.feature_extraction.text import TfidfTransformer\n",
    "\n",
    "from sklearn.feature_extraction.text import CountVectorizer, TfidfVectorizer\n",
    "\n",
    "from sklearn.metrics import accuracy_score, confusion_matrix\n",
    "\n",
    "my_tags = ['Recruitment',\n",
    "           'Food and Beverages',\n",
    "           'Fashion and Beauty',\n",
    "           'Machineries and Instrument',\n",
    "           'Travel and Tourism',\n",
    "           'Energy and Environment',\n",
    "           'Agriculture',\n",
    "           'Health and Medicine',\n",
    "           'Constructions',\n",
    "           'Banking Insurance and Financial Services',\n",
    "           'Hotel and Restaurants',\n",
    "           'Education',\n",
    "           'Entertainment',\n",
    "           'Sports',\n",
    "           'Engineering  and Technology',\n",
    "           'Household and Office Supplies',\n",
    "           'Machinery and Instruments',\n",
    "           'Real Estate',\n",
    "           'Government and Social Sector'\n",
    "          ]\n",
    "\n",
    "\n",
    "nb = Pipeline([('vect', CountVectorizer()),\n",
    "               ('tfidf', TfidfTransformer()),\n",
    "               ('clf', MultinomialNB(alpha=.01)),\n",
    "              ])\n",
    "nb.fit(X_train, y_train)\n",
    "\n",
    "%time\n",
    "from sklearn.metrics import classification_report\n",
    "y_pred = nb.predict(X_test)\n",
    "print(y_pred)\n",
    "print('accuracy %s' % accuracy_score(y_pred, y_test))\n",
    "print(classification_report(y_test, y_pred,target_names=my_tags))"
   ]
  },
  {
   "cell_type": "markdown",
   "metadata": {},
   "source": [
    "# Run Prediction Test"
   ]
  },
  {
   "cell_type": "code",
   "execution_count": 186,
   "metadata": {},
   "outputs": [],
   "source": [
    "to_predict= ['Hello from the otherside song released today listen']"
   ]
  },
  {
   "cell_type": "code",
   "execution_count": 187,
   "metadata": {},
   "outputs": [
    {
     "data": {
      "text/plain": [
       "'Hello from the otherside song released today listen'"
      ]
     },
     "execution_count": 187,
     "metadata": {},
     "output_type": "execute_result"
    }
   ],
   "source": [
    "str1 = ''.join(str(e) for e in to_predict)\n",
    "str1"
   ]
  },
  {
   "cell_type": "code",
   "execution_count": 188,
   "metadata": {},
   "outputs": [],
   "source": [
    "to_predict=clean_text(str1)"
   ]
  },
  {
   "cell_type": "code",
   "execution_count": 189,
   "metadata": {},
   "outputs": [
    {
     "data": {
      "text/plain": [
       "array(['Entertainment'], dtype='<U40')"
      ]
     },
     "execution_count": 189,
     "metadata": {},
     "output_type": "execute_result"
    }
   ],
   "source": [
    "nb.predict([to_predict])"
   ]
  },
  {
   "cell_type": "markdown",
   "metadata": {},
   "source": [
    "# Serializing the model"
   ]
  },
  {
   "cell_type": "code",
   "execution_count": 190,
   "metadata": {},
   "outputs": [],
   "source": [
    "\n",
    "import pickle\n",
    "\n",
    "filename = 'finalized_model.sav'\n",
    "pickle.dump(nb, open(filename, 'wb'))\n",
    " \n",
    "# some time later...\n",
    " \n"
   ]
  },
  {
   "cell_type": "markdown",
   "metadata": {},
   "source": [
    "# Loading Serialized Model and Prediction"
   ]
  },
  {
   "cell_type": "code",
   "execution_count": 191,
   "metadata": {},
   "outputs": [
    {
     "name": "stdout",
     "output_type": "stream",
     "text": [
      "['Fashion and Beauty']\n"
     ]
    }
   ],
   "source": [
    "# load the model from disk\n",
    "loaded_model = pickle.load(open(filename, 'rb'))\n",
    "loaded_model\n",
    "result = loaded_model.predict(['Intelligent skin color that supports resilience and radiance'])\n",
    "print(result)"
   ]
  },
  {
   "cell_type": "markdown",
   "metadata": {},
   "source": [
    "# Using Logistic Regression and Word2Vec\n"
   ]
  },
  {
   "cell_type": "code",
   "execution_count": 192,
   "metadata": {},
   "outputs": [
    {
     "name": "stdout",
     "output_type": "stream",
     "text": [
      "['Memorial_Hospital', 'Seniors', 'memorandum', 'elephant', 'Trump', 'Census', 'pilgrims', 'De', 'Dogs', '###-####_ext', 'chaotic', 'forgive', 'scholar', 'Lottery', 'decreasing', 'Supervisor', 'fundamentally', 'Fitness', 'abundance', 'Hold']\n"
     ]
    }
   ],
   "source": [
    "import gensim\n",
    "\n",
    "from gensim.models import Word2Vec\n",
    "\n",
    "## for training my own word2Vec\n",
    "#wv = Word2Vec(df['content'], vector_size=100, window=5, min_count=1, sg=0)\n",
    "\n",
    "# using pretrained corpus\n",
    "wv = gensim.models.KeyedVectors.load_word2vec_format(\"GoogleNews-vectors-negative300.bin.gz\", binary=True)\n",
    "\n",
    "wv.fill_norms(force=True)\n",
    "\n",
    "#explore some vocabularies\n",
    "word_keys = wv.index_to_key\n",
    "# Slice and print a portion of the vocabulary\n",
    "start_index = 13030\n",
    "end_index = 13050\n",
    "selected_words = word_keys[start_index:end_index]\n",
    "print(selected_words)\n"
   ]
  },
  {
   "cell_type": "code",
   "execution_count": 193,
   "metadata": {},
   "outputs": [
    {
     "name": "stdout",
     "output_type": "stream",
     "text": [
      "                                                content  \\\n",
      "1452  new year offer graps chance buy product best p...   \n",
      "1292  football player good skill required national f...   \n",
      "2974     looking vaccum cleaner best quality contact us   \n",
      "3021         outrun voice mail powerful qx4 offroad suv   \n",
      "2673  perfect gasoline solution vehicles machines cl...   \n",
      "\n",
      "                           category  \n",
      "1452             Fashion and Beauty  \n",
      "1292                    Recruitment  \n",
      "2974  Household and Office Supplies  \n",
      "3021      Machinery and Instruments  \n",
      "2673         Energy and Environment  \n"
     ]
    }
   ],
   "source": [
    "train, test = train_test_split(df, test_size=0.3, random_state = 42)\n",
    "print(train[0:5])"
   ]
  },
  {
   "cell_type": "code",
   "execution_count": 194,
   "metadata": {},
   "outputs": [
    {
     "data": {
      "text/plain": [
       "array([list(['new', 'year', 'offer', 'graps', 'chance', 'buy', 'product', 'best', 'price']),\n",
       "       list(['football', 'player', 'good', 'skill', 'required', 'national', 'football', 'league']),\n",
       "       list(['looking', 'vaccum', 'cleaner', 'best', 'quality', 'contact', 'us']),\n",
       "       ...,\n",
       "       list(['looking', 'tamato', 'farming', 'contact', 'us', 'different', 'procedure', 'techinques']),\n",
       "       list(['invest', 'multifamily', 'properties', 'steady', 'income']),\n",
       "       list(['contact', 'us', 'door', 'door', 'delivery', 'kitchen', 'items'])],\n",
       "      dtype=object)"
      ]
     },
     "execution_count": 194,
     "metadata": {},
     "output_type": "execute_result"
    }
   ],
   "source": [
    "\n",
    "\n",
    "#this tokenizes text\n",
    "def w2v_tokenize_text(text):\n",
    "    tokens = []\n",
    "    for sent in nltk.sent_tokenize(text, language='english'):\n",
    "        for word in nltk.word_tokenize(sent, language='english'):\n",
    "            if len(word) < 2:\n",
    "                continue\n",
    "            tokens.append(word)\n",
    "    return tokens\n",
    "\n",
    "test_tokenized = test.apply(lambda r: w2v_tokenize_text(r['content']), axis=1).values\n",
    "train_tokenized = train.apply(lambda r: w2v_tokenize_text(r['content']), axis=1).values\n",
    "\n",
    "train_tokenized"
   ]
  },
  {
   "cell_type": "code",
   "execution_count": 195,
   "metadata": {},
   "outputs": [],
   "source": [
    "\n",
    "def average_word_vectors(model, words):\n",
    "  \"\"\"Averages the word vectors for a list of words.\n",
    "\n",
    "  Args:\n",
    "    words: A list of words.\n",
    "    model: A pre-trained Gensim Word2Vec model.\n",
    "\n",
    "  Returns:\n",
    "    A numpy array containing the average word vector.\n",
    "  \"\"\"\n",
    "\n",
    "  word_vectors = []\n",
    "  for word in words:\n",
    "    try:\n",
    "      word_vectors.append(model[word])\n",
    "    except KeyError:\n",
    "      pass\n",
    "  if len(word_vectors) == 0:\n",
    "    return np.zeros(model.vector_size)\n",
    "  mean = np.sum(word_vectors, axis=0) / len(word_vectors)\n",
    "  mean = gensim.matutils.unitvec(mean)\n",
    "  return mean\n",
    "\n",
    "def word_averaging_list(wv, text_list):\n",
    "    return np.vstack([average_word_vectors(wv, content) for content in text_list ])\n"
   ]
  },
  {
   "cell_type": "code",
   "execution_count": 196,
   "metadata": {},
   "outputs": [
    {
     "name": "stdout",
     "output_type": "stream",
     "text": [
      "[[ 0.02105572 -0.00033675  0.02761569 ... -0.01839717  0.037233\n",
      "  -0.06633083]\n",
      " [-0.05503479  0.02622235  0.05774777 ... -0.07710731  0.04419231\n",
      "  -0.03749493]\n",
      " [ 0.00598162 -0.0117358  -0.00161481 ... -0.00702783 -0.01772879\n",
      "   0.02194776]\n",
      " [ 0.05795878  0.07731586 -0.00159322 ...  0.07761263 -0.04055938\n",
      "  -0.03494667]\n",
      " [-0.05721525  0.04417159  0.02855938 ...  0.0511131   0.134584\n",
      "   0.05007625]]\n"
     ]
    }
   ],
   "source": [
    "X_train_word_average = word_averaging_list(wv,train_tokenized) #use as train set of post\n",
    "X_test_word_average = word_averaging_list(wv,test_tokenized)  #use as test set of words\n",
    "print(X_test_word_average[0:5])"
   ]
  },
  {
   "cell_type": "code",
   "execution_count": 197,
   "metadata": {},
   "outputs": [
    {
     "name": "stdout",
     "output_type": "stream",
     "text": [
      "accuracy 0.8941382327209099\n",
      "                                          precision    recall  f1-score   support\n",
      "\n",
      "                             Recruitment       0.99      0.96      0.97        70\n",
      "                      Food and Beverages       0.90      0.93      0.91        57\n",
      "                      Fashion and Beauty       0.93      0.87      0.90        61\n",
      "              Machineries and Instrument       0.88      0.86      0.87        66\n",
      "                      Travel and Tourism       0.79      0.84      0.81        57\n",
      "                  Energy and Environment       0.91      0.90      0.90        58\n",
      "                             Agriculture       0.86      0.93      0.90        61\n",
      "                     Health and Medicine       0.79      0.81      0.80        64\n",
      "                           Constructions       0.96      0.91      0.93        70\n",
      "Banking Insurance and Financial Services       0.89      0.91      0.90        64\n",
      "                   Hotel and Restaurants       0.81      0.81      0.81        36\n",
      "                               Education       1.00      0.87      0.93        60\n",
      "                           Entertainment       0.91      1.00      0.95        69\n",
      "                                  Sports       0.76      0.93      0.84        55\n",
      "             Engineering  and Technology       0.91      0.89      0.90        57\n",
      "           Household and Office Supplies       0.96      0.86      0.91        57\n",
      "               Machinery and Instruments       0.94      0.77      0.85        62\n",
      "                             Real Estate       0.92      0.91      0.91        65\n",
      "            Government and Social Sector       0.90      0.98      0.94        54\n",
      "\n",
      "                                accuracy                           0.89      1143\n",
      "                               macro avg       0.89      0.89      0.89      1143\n",
      "                            weighted avg       0.90      0.89      0.89      1143\n",
      "\n"
     ]
    }
   ],
   "source": [
    "from sklearn.linear_model import LogisticRegression\n",
    "logreg = LogisticRegression(n_jobs=1, C=1e5, multi_class='auto', max_iter=1000)\n",
    "logreg = logreg.fit(X_train_word_average, train['category'])\n",
    "y_pred = logreg.predict(X_test_word_average)\n",
    "print('accuracy %s' % accuracy_score(y_pred, test.category))\n",
    "print(classification_report(test.category, y_pred,target_names=my_tags))"
   ]
  },
  {
   "cell_type": "code",
   "execution_count": 198,
   "metadata": {},
   "outputs": [],
   "source": [
    "ah = [w2v_tokenize_text('Nurture yourself with nature kalinchowk tours and travel packages available at affordable prices')] \n",
    "wave= word_averaging_list(wv, ah)"
   ]
  },
  {
   "cell_type": "code",
   "execution_count": 199,
   "metadata": {},
   "outputs": [
    {
     "data": {
      "text/plain": [
       "array(['Travel and Tourism'], dtype=object)"
      ]
     },
     "execution_count": 199,
     "metadata": {},
     "output_type": "execute_result"
    }
   ],
   "source": [
    "logreg.predict(wave)"
   ]
  }
 ],
 "metadata": {
  "kernelspec": {
   "display_name": "Python 3",
   "language": "python",
   "name": "python3"
  },
  "language_info": {
   "codemirror_mode": {
    "name": "ipython",
    "version": 3
   },
   "file_extension": ".py",
   "mimetype": "text/x-python",
   "name": "python",
   "nbconvert_exporter": "python",
   "pygments_lexer": "ipython3",
   "version": "3.11.5"
  }
 },
 "nbformat": 4,
 "nbformat_minor": 2
}
