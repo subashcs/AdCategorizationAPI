{
 "cells": [
  {
   "cell_type": "markdown",
   "metadata": {},
   "source": [
    "# Reading Data:"
   ]
  },
  {
   "cell_type": "code",
   "execution_count": null,
   "metadata": {},
   "outputs": [],
   "source": []
  },
  {
   "cell_type": "code",
   "execution_count": 2,
   "metadata": {},
   "outputs": [],
   "source": [
    "import pandas as pd\n",
    "df = pd.read_excel('adsdata.xlsx')\n",
    "import numpy as np"
   ]
  },
  {
   "cell_type": "code",
   "execution_count": null,
   "metadata": {},
   "outputs": [],
   "source": []
  },
  {
   "cell_type": "code",
   "execution_count": 3,
   "metadata": {},
   "outputs": [
    {
     "data": {
      "text/html": [
       "<div>\n",
       "<style scoped>\n",
       "    .dataframe tbody tr th:only-of-type {\n",
       "        vertical-align: middle;\n",
       "    }\n",
       "\n",
       "    .dataframe tbody tr th {\n",
       "        vertical-align: top;\n",
       "    }\n",
       "\n",
       "    .dataframe thead th {\n",
       "        text-align: right;\n",
       "    }\n",
       "</style>\n",
       "<table border=\"1\" class=\"dataframe\">\n",
       "  <thead>\n",
       "    <tr style=\"text-align: right;\">\n",
       "      <th></th>\n",
       "      <th>content</th>\n",
       "      <th>category</th>\n",
       "    </tr>\n",
       "  </thead>\n",
       "  <tbody>\n",
       "    <tr>\n",
       "      <th>0</th>\n",
       "      <td>You need chocolate when life gives you bitter ...</td>\n",
       "      <td>Foods,Dairy and Beverages</td>\n",
       "    </tr>\n",
       "    <tr>\n",
       "      <th>1</th>\n",
       "      <td>Instant noode a smart soution for your hunger ...</td>\n",
       "      <td>Foods,Dairy and Beverages</td>\n",
       "    </tr>\n",
       "    <tr>\n",
       "      <th>2</th>\n",
       "      <td>Make your purchases using our visa card for se...</td>\n",
       "      <td>Banking Insurance and Financial Services</td>\n",
       "    </tr>\n",
       "    <tr>\n",
       "      <th>3</th>\n",
       "      <td>We are the authorize agent to help workers and...</td>\n",
       "      <td>Household and Office</td>\n",
       "    </tr>\n",
       "    <tr>\n",
       "      <th>4</th>\n",
       "      <td>Vacancy announcement for the new recruiment fo...</td>\n",
       "      <td>Recruiment</td>\n",
       "    </tr>\n",
       "  </tbody>\n",
       "</table>\n",
       "</div>"
      ],
      "text/plain": [
       "                                             content  \\\n",
       "0  You need chocolate when life gives you bitter ...   \n",
       "1  Instant noode a smart soution for your hunger ...   \n",
       "2  Make your purchases using our visa card for se...   \n",
       "3  We are the authorize agent to help workers and...   \n",
       "4  Vacancy announcement for the new recruiment fo...   \n",
       "\n",
       "                                   category  \n",
       "0                 Foods,Dairy and Beverages  \n",
       "1                 Foods,Dairy and Beverages  \n",
       "2  Banking Insurance and Financial Services  \n",
       "3                      Household and Office  \n",
       "4                                Recruiment  "
      ]
     },
     "execution_count": 3,
     "metadata": {},
     "output_type": "execute_result"
    }
   ],
   "source": [
    "df.head()"
   ]
  },
  {
   "cell_type": "markdown",
   "metadata": {},
   "source": [
    "# Resolving spelling mistakes"
   ]
  },
  {
   "cell_type": "code",
   "execution_count": 4,
   "metadata": {},
   "outputs": [],
   "source": [
    "df=df.replace('Recruiment','Recruitment') "
   ]
  },
  {
   "cell_type": "markdown",
   "metadata": {},
   "source": [
    "# Analyzing data"
   ]
  },
  {
   "cell_type": "code",
   "execution_count": 5,
   "metadata": {},
   "outputs": [
    {
     "data": {
      "text/plain": [
       "Recruitment                                 204\n",
       "Sports                                      203\n",
       "Engineering and Technology                  201\n",
       "Banking Insurance and Financial Services    201\n",
       "Agriculture                                 201\n",
       "Foods,Dairy and Beverages                   200\n",
       "Fashion and Beauty                          200\n",
       "Machineries and Instrument                  200\n",
       "Energy and Environment                      200\n",
       "Education                                   200\n",
       "Construction                                200\n",
       "Travel and Tourism                          200\n",
       "Entertainment                               200\n",
       "Household and Office                        200\n",
       "Hotel and Restaurants                       199\n",
       "Health and Medicine                         199\n",
       "Arts                                        198\n",
       "Name: category, dtype: int64"
      ]
     },
     "execution_count": 5,
     "metadata": {},
     "output_type": "execute_result"
    }
   ],
   "source": [
    "df.category.value_counts()"
   ]
  },
  {
   "cell_type": "code",
   "execution_count": 6,
   "metadata": {},
   "outputs": [
    {
     "name": "stdout",
     "output_type": "stream",
     "text": [
      "content\n",
      "category\n"
     ]
    }
   ],
   "source": [
    "for col in df.columns:\n",
    "    print (col)"
   ]
  },
  {
   "cell_type": "code",
   "execution_count": 7,
   "metadata": {},
   "outputs": [
    {
     "data": {
      "text/plain": [
       "Index(['content', 'category'], dtype='object')"
      ]
     },
     "execution_count": 7,
     "metadata": {},
     "output_type": "execute_result"
    }
   ],
   "source": [
    "df.columns"
   ]
  },
  {
   "cell_type": "markdown",
   "metadata": {},
   "source": []
  },
  {
   "cell_type": "code",
   "execution_count": null,
   "metadata": {},
   "outputs": [],
   "source": []
  },
  {
   "cell_type": "markdown",
   "metadata": {},
   "source": [
    "# Data visualization"
   ]
  },
  {
   "cell_type": "code",
   "execution_count": 8,
   "metadata": {},
   "outputs": [],
   "source": [
    "import matplotlib.pyplot as plt\n",
    "plt.figure(figsize=(10,4))\n",
    "df.category.value_counts().plot(kind='bar');"
   ]
  },
  {
   "cell_type": "markdown",
   "metadata": {},
   "source": [
    "# Data Cleansing"
   ]
  },
  {
   "cell_type": "code",
   "execution_count": 9,
   "metadata": {},
   "outputs": [],
   "source": [
    "from nltk.corpus import stopwords\n",
    "\n",
    "import pandas as pd\n",
    "import numpy as np\n",
    "\n",
    "import nltk\n",
    "\n",
    "import re"
   ]
  },
  {
   "cell_type": "markdown",
   "metadata": {},
   "source": [
    "## Removing null cells"
   ]
  },
  {
   "cell_type": "code",
   "execution_count": 10,
   "metadata": {},
   "outputs": [],
   "source": [
    "\n",
    "df = df[pd.notnull(df['category'])]"
   ]
  },
  {
   "cell_type": "markdown",
   "metadata": {},
   "source": [
    " Total words Count"
   ]
  },
  {
   "cell_type": "code",
   "execution_count": 11,
   "metadata": {},
   "outputs": [
    {
     "name": "stdout",
     "output_type": "stream",
     "text": [
      "Total words or features:\n",
      "39798\n"
     ]
    }
   ],
   "source": [
    "\n",
    "print('Total words or features:')\n",
    "print(df['content'].apply(lambda x: len(x.split(' '))).sum())\n"
   ]
  },
  {
   "cell_type": "markdown",
   "metadata": {},
   "source": [
    "## StopWords Removal"
   ]
  },
  {
   "cell_type": "code",
   "execution_count": 12,
   "metadata": {},
   "outputs": [],
   "source": [
    "REPLACE_BY_SPACE_RE = re.compile('[/(){}\\[\\]\\|@,;]')\n",
    "BAD_SYMBOLS_RE = re.compile('[^0-9a-z #+_]')\n",
    "\n",
    "STOPWORDS = set(stopwords.words('english'))"
   ]
  },
  {
   "cell_type": "code",
   "execution_count": 13,
   "metadata": {},
   "outputs": [],
   "source": [
    "#prepare text clean function\n",
    "\n",
    "def clean_text(text):\n",
    "    \"\"\"\n",
    "        text: a string\n",
    "        \n",
    "        return: modified initial string\n",
    "    \"\"\"\n",
    "   ## we dont need text = BeautifulSoup(text, \"lxml\").text # HTML decoding\n",
    "    text = text.lower() # lowercase text\n",
    "    text = REPLACE_BY_SPACE_RE.sub(' ', text) # replace REPLACE_BY_SPACE_RE symbols by space in text\n",
    "    text = BAD_SYMBOLS_RE.sub('', text) # delete symbols which are in BAD_SYMBOLS_RE from text\n",
    "    text = ' '.join(word for word in text.split() if word not in STOPWORDS) # delete stopwors from text\n",
    "    return text\n",
    "    \n",
    "\n"
   ]
  },
  {
   "cell_type": "code",
   "execution_count": 14,
   "metadata": {},
   "outputs": [],
   "source": [
    "#apply text cleaner\n",
    "df['content'] = df['content'].apply(clean_text)"
   ]
  },
  {
   "cell_type": "code",
   "execution_count": 15,
   "metadata": {},
   "outputs": [
    {
     "name": "stdout",
     "output_type": "stream",
     "text": [
      "Total number of words or features:\n",
      "25356\n"
     ]
    }
   ],
   "source": [
    "## again count total number of features \n",
    "print('Total number of words or features:')\n",
    "print(df['content'].apply(lambda x: len(x.split(' '))).sum())\n",
    "\n"
   ]
  },
  {
   "cell_type": "code",
   "execution_count": 16,
   "metadata": {},
   "outputs": [
    {
     "data": {
      "image/png": "[encoded data removed]",
      "text/plain": [
       "<Figure size 720x288 with 1 Axes>"
      ]
     },
     "metadata": {
      "needs_background": "light"
     },
     "output_type": "display_data"
    }
   ],
   "source": [
    "import matplotlib.pyplot as plt\n",
    "plt.figure(figsize=(10,4))\n",
    "df.category.value_counts().plot(kind='bar');"
   ]
  },
  {
   "cell_type": "markdown",
   "metadata": {},
   "source": [
    "# Train Test Split"
   ]
  },
  {
   "cell_type": "code",
   "execution_count": 17,
   "metadata": {},
   "outputs": [],
   "source": [
    "##split to train and test set \n",
    "\n",
    "\n",
    "from sklearn.model_selection import train_test_split\n",
    "\n",
    "X = df.content\n",
    "y = df.category\n",
    "X_train, X_test, y_train, y_test = train_test_split(X, y, test_size=0.25, random_state = 42)\n"
   ]
  },
  {
   "cell_type": "code",
   "execution_count": 18,
   "metadata": {},
   "outputs": [
    {
     "data": {
      "text/plain": [
       "3274    hatching eggs quality pollutry production avai...\n",
       "2342      farming tractors april 30 contact fast discount\n",
       "2554                         buy whisle shop cheaper rate\n",
       "1231                                         lots choices\n",
       "221              plumber required home maintanance office\n",
       "543     finalized artist director upcoming moviealso s...\n",
       "1575          complete computer hardware software courses\n",
       "2442                            ease banking elder people\n",
       "685                    peanut butterfudge fat bomb 399 rs\n",
       "1114                                company opening today\n",
       "2633                     different varity balls available\n",
       "2815     new car designed mechanical enginner lounch soon\n",
       "1352                         futsal tournament jully 20th\n",
       "1814                      vacany announcement staff nurse\n",
       "789                 contact us better services facilities\n",
       "3008    buy men summer beach casual shorts athletic gy...\n",
       "1052    digital pill box medicine container time alarm...\n",
       "1572                     suscribe mobile banking services\n",
       "2077            incease focus brain elevating application\n",
       "1647                             ktmbostonktm npr 98 1001\n",
       "2283    newly arrive women causual running sports shor...\n",
       "1017                       live style open world pc games\n",
       "2802      offering different agriculture training farmers\n",
       "272      supreme ice cream different flavors sizes summer\n",
       "2577    bank anywhere dontthe anywhere account reliabi...\n",
       "521     require civil engineer kalanki kathmandu road ...\n",
       "522                 accountant required salary negotiable\n",
       "3337    looking photojournalist apply please forward c...\n",
       "881                            build dreams within budget\n",
       "1420                               guitar sell best price\n",
       "                              ...                        \n",
       "2300                                         build dreams\n",
       "21      dissecting set educational professional usages...\n",
       "459           hiringclassocal dance teacher dance academy\n",
       "1184    furniture avalible shop spend 40000 get 5 disc...\n",
       "2324    men talk women sports carswomen talk men insid...\n",
       "955     world class quaternary case facility multiple ...\n",
       "1215                                                serve\n",
       "2433    big discount upto 30 various brands types acce...\n",
       "2853    needed staff nurse pcl nurshing experience icu...\n",
       "1515          welding machine accessoriea available store\n",
       "2391       one week holiday special package trips mustang\n",
       "769     scavator bulldozer road roller sale special di...\n",
       "3380                            best travell agency nepal\n",
       "1685    opportunity department nuro psychiatry apply 2...\n",
       "130     coffee making machine quality coffee sale free...\n",
       "2919    offer searching fo eligible person able manage...\n",
       "3171    hydropower fuel solution save environment prom...\n",
       "2135                        jersey available low worldcup\n",
       "1482    clean energy analyst analyze effects climate w...\n",
       "330     looking promoting art drawing sculpture creations\n",
       "1238    complete tools set including various everyday ...\n",
       "466                 easy safe remittance trusted channels\n",
       "2169                             mushroom farm contact us\n",
       "1638    looking air conditioners office house contact ...\n",
       "3092    winter jacket pant tshirt trouser thermo coat ...\n",
       "1095          contact us various types flooring materials\n",
       "1130    flower vase plants natural decoration house fr...\n",
       "1294                         offer laptop limited periods\n",
       "860     looking tamato farming contact us different pr...\n",
       "3174          contact us door door delivery kitchen items\n",
       "Name: content, Length: 2554, dtype: object"
      ]
     },
     "execution_count": 18,
     "metadata": {},
     "output_type": "execute_result"
    }
   ],
   "source": [
    "X_train"
   ]
  },
  {
   "cell_type": "markdown",
   "metadata": {},
   "source": [
    "# Training Multinomial Naive Bayes Classifier Using SkLearn "
   ]
  },
  {
   "cell_type": "code",
   "execution_count": 19,
   "metadata": {},
   "outputs": [
    {
     "name": "stdout",
     "output_type": "stream",
     "text": [
      "Wall time: 0 ns\n",
      "['Engineering and Technology' 'Travel and Tourism' 'Arts' 'Agriculture'\n",
      " 'Entertainment' 'Education' 'Hotel and Restaurants' 'Travel and Tourism'\n",
      " 'Construction' 'Arts' 'Engineering and Technology' 'Arts' 'Agriculture'\n",
      " 'Engineering and Technology' 'Travel and Tourism' 'Agriculture'\n",
      " 'Health and Medicine' 'Entertainment' 'Recruitment'\n",
      " 'Machineries and Instrument' 'Hotel and Restaurants'\n",
      " 'Foods,Dairy and Beverages' 'Travel and Tourism' 'Household and Office'\n",
      " 'Travel and Tourism' 'Sports' 'Health and Medicine' 'Education'\n",
      " 'Foods,Dairy and Beverages' 'Fashion and Beauty'\n",
      " 'Engineering and Technology' 'Foods,Dairy and Beverages' 'Agriculture'\n",
      " 'Fashion and Beauty' 'Energy and Environment' 'Construction'\n",
      " 'Machineries and Instrument' 'Sports' 'Recruitment' 'Education'\n",
      " 'Agriculture' 'Arts' 'Hotel and Restaurants' 'Travel and Tourism'\n",
      " 'Energy and Environment' 'Recruitment' 'Construction' 'Sports'\n",
      " 'Entertainment' 'Sports' 'Household and Office' 'Entertainment'\n",
      " 'Engineering and Technology' 'Arts' 'Household and Office' 'Education'\n",
      " 'Entertainment' 'Recruitment' 'Fashion and Beauty' 'Health and Medicine'\n",
      " 'Machineries and Instrument' 'Energy and Environment'\n",
      " 'Hotel and Restaurants' 'Machineries and Instrument' 'Education'\n",
      " 'Entertainment' 'Recruitment' 'Fashion and Beauty' 'Education'\n",
      " 'Agriculture' 'Household and Office' 'Foods,Dairy and Beverages'\n",
      " 'Recruitment' 'Sports' 'Travel and Tourism' 'Energy and Environment'\n",
      " 'Hotel and Restaurants' 'Entertainment'\n",
      " 'Banking Insurance and Financial Services' 'Arts' 'Hotel and Restaurants'\n",
      " 'Recruitment' 'Fashion and Beauty' 'Engineering and Technology'\n",
      " 'Construction' 'Health and Medicine' 'Construction' 'Construction'\n",
      " 'Agriculture' 'Machineries and Instrument' 'Education'\n",
      " 'Foods,Dairy and Beverages' 'Travel and Tourism' 'Fashion and Beauty'\n",
      " 'Recruitment' 'Arts' 'Foods,Dairy and Beverages' 'Energy and Environment'\n",
      " 'Recruitment' 'Household and Office' 'Engineering and Technology'\n",
      " 'Travel and Tourism' 'Health and Medicine' 'Education' 'Education'\n",
      " 'Recruitment' 'Machineries and Instrument' 'Education'\n",
      " 'Fashion and Beauty' 'Engineering and Technology'\n",
      " 'Energy and Environment' 'Sports' 'Health and Medicine'\n",
      " 'Health and Medicine' 'Engineering and Technology'\n",
      " 'Banking Insurance and Financial Services' 'Fashion and Beauty'\n",
      " 'Recruitment' 'Hotel and Restaurants' 'Arts' 'Foods,Dairy and Beverages'\n",
      " 'Recruitment' 'Sports' 'Energy and Environment' 'Entertainment'\n",
      " 'Agriculture' 'Travel and Tourism' 'Education' 'Construction' 'Arts'\n",
      " 'Household and Office' 'Machineries and Instrument' 'Travel and Tourism'\n",
      " 'Arts' 'Foods,Dairy and Beverages' 'Construction'\n",
      " 'Energy and Environment' 'Fashion and Beauty'\n",
      " 'Machineries and Instrument' 'Machineries and Instrument' 'Entertainment'\n",
      " 'Construction' 'Construction' 'Education' 'Recruitment' 'Recruitment'\n",
      " 'Sports' 'Machineries and Instrument' 'Fashion and Beauty'\n",
      " 'Travel and Tourism' 'Education' 'Health and Medicine' 'Education'\n",
      " 'Foods,Dairy and Beverages' 'Arts' 'Construction' 'Entertainment'\n",
      " 'Education' 'Household and Office' 'Fashion and Beauty'\n",
      " 'Foods,Dairy and Beverages' 'Fashion and Beauty' 'Construction'\n",
      " 'Entertainment' 'Household and Office' 'Sports'\n",
      " 'Banking Insurance and Financial Services' 'Health and Medicine'\n",
      " 'Foods,Dairy and Beverages' 'Health and Medicine' 'Recruitment'\n",
      " 'Energy and Environment' 'Health and Medicine'\n",
      " 'Banking Insurance and Financial Services' 'Sports'\n",
      " 'Household and Office' 'Fashion and Beauty' 'Travel and Tourism' 'Sports'\n",
      " 'Energy and Environment' 'Banking Insurance and Financial Services'\n",
      " 'Education' 'Health and Medicine' 'Fashion and Beauty' 'Arts'\n",
      " 'Energy and Environment' 'Energy and Environment' 'Household and Office'\n",
      " 'Arts' 'Arts' 'Travel and Tourism' 'Sports' 'Hotel and Restaurants'\n",
      " 'Education' 'Entertainment' 'Agriculture' 'Engineering and Technology'\n",
      " 'Foods,Dairy and Beverages' 'Health and Medicine'\n",
      " 'Energy and Environment' 'Fashion and Beauty' 'Hotel and Restaurants'\n",
      " 'Engineering and Technology' 'Engineering and Technology'\n",
      " 'Machineries and Instrument' 'Education' 'Agriculture'\n",
      " 'Hotel and Restaurants' 'Education' 'Sports' 'Travel and Tourism'\n",
      " 'Banking Insurance and Financial Services'\n",
      " 'Banking Insurance and Financial Services' 'Health and Medicine'\n",
      " 'Hotel and Restaurants' 'Banking Insurance and Financial Services'\n",
      " 'Construction' 'Recruitment' 'Recruitment' 'Foods,Dairy and Beverages'\n",
      " 'Fashion and Beauty' 'Agriculture' 'Entertainment' 'Education'\n",
      " 'Foods,Dairy and Beverages' 'Banking Insurance and Financial Services'\n",
      " 'Banking Insurance and Financial Services' 'Arts' 'Household and Office'\n",
      " 'Arts' 'Arts' 'Hotel and Restaurants' 'Education' 'Entertainment'\n",
      " 'Machineries and Instrument' 'Banking Insurance and Financial Services'\n",
      " 'Travel and Tourism' 'Banking Insurance and Financial Services'\n",
      " 'Energy and Environment' 'Sports' 'Household and Office'\n",
      " 'Health and Medicine' 'Travel and Tourism' 'Fashion and Beauty' 'Arts'\n",
      " 'Banking Insurance and Financial Services' 'Foods,Dairy and Beverages'\n",
      " 'Arts' 'Sports' 'Household and Office' 'Engineering and Technology'\n",
      " 'Health and Medicine' 'Agriculture' 'Travel and Tourism' 'Agriculture'\n",
      " 'Construction' 'Foods,Dairy and Beverages' 'Foods,Dairy and Beverages'\n",
      " 'Hotel and Restaurants' 'Household and Office' 'Hotel and Restaurants'\n",
      " 'Arts' 'Recruitment' 'Foods,Dairy and Beverages' 'Education'\n",
      " 'Foods,Dairy and Beverages' 'Travel and Tourism' 'Recruitment'\n",
      " 'Education' 'Arts' 'Sports' 'Hotel and Restaurants'\n",
      " 'Energy and Environment' 'Household and Office' 'Fashion and Beauty'\n",
      " 'Agriculture' 'Household and Office' 'Hotel and Restaurants'\n",
      " 'Banking Insurance and Financial Services' 'Household and Office'\n",
      " 'Hotel and Restaurants' 'Agriculture' 'Education' 'Education'\n",
      " 'Hotel and Restaurants' 'Arts' 'Fashion and Beauty'\n",
      " 'Foods,Dairy and Beverages' 'Travel and Tourism' 'Travel and Tourism'\n",
      " 'Household and Office' 'Machineries and Instrument'\n",
      " 'Foods,Dairy and Beverages' 'Recruitment' 'Machineries and Instrument'\n",
      " 'Education' 'Recruitment' 'Foods,Dairy and Beverages' 'Recruitment'\n",
      " 'Foods,Dairy and Beverages' 'Engineering and Technology' 'Entertainment'\n",
      " 'Entertainment' 'Banking Insurance and Financial Services'\n",
      " 'Energy and Environment' 'Health and Medicine' 'Entertainment'\n",
      " 'Agriculture' 'Construction' 'Travel and Tourism' 'Education'\n",
      " 'Engineering and Technology' 'Energy and Environment' 'Agriculture'\n",
      " 'Banking Insurance and Financial Services' 'Hotel and Restaurants'\n",
      " 'Agriculture' 'Entertainment' 'Travel and Tourism' 'Health and Medicine'\n",
      " 'Hotel and Restaurants' 'Construction' 'Health and Medicine'\n",
      " 'Banking Insurance and Financial Services' 'Hotel and Restaurants'\n",
      " 'Banking Insurance and Financial Services' 'Fashion and Beauty'\n",
      " 'Banking Insurance and Financial Services' 'Machineries and Instrument'\n",
      " 'Construction' 'Travel and Tourism' 'Energy and Environment'\n",
      " 'Energy and Environment' 'Construction' 'Education' 'Construction'\n",
      " 'Machineries and Instrument' 'Energy and Environment'\n",
      " 'Health and Medicine' 'Recruitment' 'Health and Medicine'\n",
      " 'Energy and Environment' 'Banking Insurance and Financial Services'\n",
      " 'Engineering and Technology' 'Foods,Dairy and Beverages'\n",
      " 'Foods,Dairy and Beverages' 'Education' 'Fashion and Beauty'\n",
      " 'Household and Office' 'Household and Office' 'Fashion and Beauty'\n",
      " 'Engineering and Technology' 'Banking Insurance and Financial Services'\n",
      " 'Household and Office' 'Foods,Dairy and Beverages' 'Agriculture'\n",
      " 'Energy and Environment' 'Engineering and Technology'\n",
      " 'Banking Insurance and Financial Services' 'Travel and Tourism'\n",
      " 'Foods,Dairy and Beverages' 'Banking Insurance and Financial Services'\n",
      " 'Arts' 'Construction' 'Household and Office' 'Education'\n",
      " 'Banking Insurance and Financial Services' 'Sports'\n",
      " 'Machineries and Instrument' 'Hotel and Restaurants' 'Travel and Tourism'\n",
      " 'Foods,Dairy and Beverages' 'Arts' 'Engineering and Technology'\n",
      " 'Recruitment' 'Construction' 'Recruitment' 'Machineries and Instrument'\n",
      " 'Energy and Environment' 'Foods,Dairy and Beverages' 'Sports'\n",
      " 'Entertainment' 'Engineering and Technology' 'Fashion and Beauty'\n",
      " 'Banking Insurance and Financial Services' 'Sports'\n",
      " 'Hotel and Restaurants' 'Engineering and Technology'\n",
      " 'Machineries and Instrument' 'Travel and Tourism' 'Recruitment'\n",
      " 'Energy and Environment' 'Travel and Tourism' 'Agriculture'\n",
      " 'Energy and Environment' 'Travel and Tourism' 'Hotel and Restaurants'\n",
      " 'Engineering and Technology' 'Agriculture' 'Travel and Tourism' 'Arts'\n",
      " 'Household and Office' 'Recruitment' 'Foods,Dairy and Beverages'\n",
      " 'Construction' 'Engineering and Technology' 'Household and Office'\n",
      " 'Hotel and Restaurants' 'Agriculture' 'Foods,Dairy and Beverages'\n",
      " 'Foods,Dairy and Beverages' 'Energy and Environment'\n",
      " 'Hotel and Restaurants' 'Machineries and Instrument'\n",
      " 'Health and Medicine' 'Recruitment'\n",
      " 'Banking Insurance and Financial Services' 'Travel and Tourism'\n",
      " 'Fashion and Beauty' 'Travel and Tourism' 'Recruitment' 'Arts' 'Sports'\n",
      " 'Banking Insurance and Financial Services' 'Foods,Dairy and Beverages'\n",
      " 'Agriculture' 'Agriculture' 'Sports'\n",
      " 'Banking Insurance and Financial Services' 'Education'\n",
      " 'Engineering and Technology' 'Sports' 'Health and Medicine' 'Sports'\n",
      " 'Household and Office' 'Foods,Dairy and Beverages' 'Sports'\n",
      " 'Energy and Environment' 'Sports' 'Construction'\n",
      " 'Foods,Dairy and Beverages' 'Fashion and Beauty' 'Entertainment'\n",
      " 'Hotel and Restaurants' 'Machineries and Instrument'\n",
      " 'Foods,Dairy and Beverages' 'Banking Insurance and Financial Services'\n",
      " 'Banking Insurance and Financial Services' 'Travel and Tourism'\n",
      " 'Fashion and Beauty' 'Energy and Environment'\n",
      " 'Engineering and Technology' 'Banking Insurance and Financial Services'\n",
      " 'Energy and Environment' 'Foods,Dairy and Beverages' 'Travel and Tourism'\n",
      " 'Arts' 'Machineries and Instrument' 'Sports' 'Entertainment'\n",
      " 'Hotel and Restaurants' 'Entertainment' 'Foods,Dairy and Beverages'\n",
      " 'Sports' 'Agriculture' 'Sports' 'Foods,Dairy and Beverages'\n",
      " 'Hotel and Restaurants' 'Fashion and Beauty' 'Machineries and Instrument'\n",
      " 'Energy and Environment' 'Hotel and Restaurants' 'Fashion and Beauty'\n",
      " 'Energy and Environment' 'Banking Insurance and Financial Services'\n",
      " 'Construction' 'Sports' 'Construction' 'Construction' 'Agriculture'\n",
      " 'Arts' 'Entertainment' 'Household and Office'\n",
      " 'Machineries and Instrument' 'Health and Medicine' 'Agriculture'\n",
      " 'Foods,Dairy and Beverages' 'Entertainment' 'Agriculture'\n",
      " 'Hotel and Restaurants' 'Entertainment' 'Energy and Environment'\n",
      " 'Hotel and Restaurants' 'Hotel and Restaurants' 'Energy and Environment'\n",
      " 'Education' 'Entertainment' 'Foods,Dairy and Beverages' 'Entertainment'\n",
      " 'Agriculture' 'Health and Medicine' 'Foods,Dairy and Beverages'\n",
      " 'Hotel and Restaurants' 'Machineries and Instrument' 'Construction'\n",
      " 'Entertainment' 'Foods,Dairy and Beverages' 'Energy and Environment'\n",
      " 'Recruitment' 'Banking Insurance and Financial Services' 'Entertainment'\n",
      " 'Sports' 'Household and Office' 'Fashion and Beauty' 'Fashion and Beauty'\n",
      " 'Travel and Tourism' 'Energy and Environment'\n",
      " 'Engineering and Technology' 'Household and Office'\n",
      " 'Banking Insurance and Financial Services' 'Health and Medicine'\n",
      " 'Recruitment' 'Agriculture' 'Fashion and Beauty' 'Education'\n",
      " 'Agriculture' 'Foods,Dairy and Beverages' 'Sports'\n",
      " 'Banking Insurance and Financial Services' 'Machineries and Instrument'\n",
      " 'Fashion and Beauty' 'Hotel and Restaurants' 'Engineering and Technology'\n",
      " 'Banking Insurance and Financial Services' 'Engineering and Technology'\n",
      " 'Foods,Dairy and Beverages' 'Agriculture' 'Fashion and Beauty'\n",
      " 'Machineries and Instrument' 'Foods,Dairy and Beverages' 'Sports'\n",
      " 'Sports' 'Education' 'Household and Office' 'Recruitment' 'Recruitment'\n",
      " 'Agriculture' 'Education' 'Construction' 'Engineering and Technology'\n",
      " 'Fashion and Beauty' 'Education' 'Education' 'Arts'\n",
      " 'Machineries and Instrument' 'Arts' 'Machineries and Instrument'\n",
      " 'Recruitment' 'Hotel and Restaurants' 'Education'\n",
      " 'Engineering and Technology' 'Engineering and Technology'\n",
      " 'Household and Office' 'Household and Office'\n",
      " 'Machineries and Instrument' 'Health and Medicine' 'Sports'\n",
      " 'Machineries and Instrument' 'Fashion and Beauty'\n",
      " 'Foods,Dairy and Beverages' 'Energy and Environment'\n",
      " 'Foods,Dairy and Beverages' 'Energy and Environment' 'Sports' 'Arts'\n",
      " 'Hotel and Restaurants' 'Entertainment' 'Engineering and Technology'\n",
      " 'Recruitment' 'Arts' 'Entertainment' 'Agriculture' 'Agriculture'\n",
      " 'Health and Medicine' 'Fashion and Beauty' 'Fashion and Beauty'\n",
      " 'Household and Office' 'Arts' 'Household and Office' 'Agriculture'\n",
      " 'Health and Medicine' 'Banking Insurance and Financial Services'\n",
      " 'Hotel and Restaurants' 'Recruitment' 'Sports' 'Travel and Tourism'\n",
      " 'Arts' 'Fashion and Beauty' 'Health and Medicine' 'Household and Office'\n",
      " 'Energy and Environment' 'Recruitment' 'Sports' 'Health and Medicine'\n",
      " 'Machineries and Instrument' 'Entertainment' 'Entertainment'\n",
      " 'Energy and Environment' 'Health and Medicine'\n",
      " 'Machineries and Instrument' 'Recruitment' 'Energy and Environment'\n",
      " 'Travel and Tourism' 'Health and Medicine' 'Health and Medicine'\n",
      " 'Household and Office' 'Banking Insurance and Financial Services'\n",
      " 'Sports' 'Entertainment' 'Recruitment' 'Engineering and Technology'\n",
      " 'Foods,Dairy and Beverages' 'Banking Insurance and Financial Services'\n",
      " 'Sports' 'Construction' 'Agriculture' 'Recruitment'\n",
      " 'Foods,Dairy and Beverages' 'Health and Medicine'\n",
      " 'Foods,Dairy and Beverages' 'Entertainment' 'Arts'\n",
      " 'Energy and Environment' 'Entertainment' 'Fashion and Beauty'\n",
      " 'Construction' 'Recruitment' 'Travel and Tourism' 'Construction'\n",
      " 'Construction' 'Sports' 'Machineries and Instrument' 'Travel and Tourism'\n",
      " 'Arts' 'Energy and Environment' 'Hotel and Restaurants'\n",
      " 'Energy and Environment' 'Recruitment' 'Travel and Tourism'\n",
      " 'Travel and Tourism' 'Recruitment' 'Engineering and Technology' 'Sports'\n",
      " 'Banking Insurance and Financial Services' 'Fashion and Beauty'\n",
      " 'Construction' 'Fashion and Beauty' 'Travel and Tourism' 'Arts'\n",
      " 'Agriculture' 'Fashion and Beauty' 'Education'\n",
      " 'Engineering and Technology' 'Entertainment' 'Engineering and Technology'\n",
      " 'Recruitment' 'Recruitment' 'Fashion and Beauty'\n",
      " 'Machineries and Instrument' 'Hotel and Restaurants'\n",
      " 'Hotel and Restaurants' 'Foods,Dairy and Beverages'\n",
      " 'Hotel and Restaurants' 'Education' 'Machineries and Instrument' 'Sports'\n",
      " 'Sports' 'Sports' 'Household and Office' 'Agriculture' 'Construction'\n",
      " 'Health and Medicine' 'Health and Medicine' 'Agriculture' 'Construction'\n",
      " 'Sports' 'Sports' 'Foods,Dairy and Beverages' 'Sports'\n",
      " 'Hotel and Restaurants' 'Education' 'Foods,Dairy and Beverages'\n",
      " 'Health and Medicine' 'Education' 'Recruitment' 'Travel and Tourism'\n",
      " 'Entertainment' 'Education' 'Fashion and Beauty' 'Sports' 'Agriculture'\n",
      " 'Arts' 'Hotel and Restaurants' 'Health and Medicine'\n",
      " 'Engineering and Technology' 'Agriculture' 'Energy and Environment'\n",
      " 'Recruitment' 'Household and Office' 'Foods,Dairy and Beverages'\n",
      " 'Foods,Dairy and Beverages' 'Travel and Tourism'\n",
      " 'Banking Insurance and Financial Services' 'Machineries and Instrument'\n",
      " 'Foods,Dairy and Beverages' 'Arts' 'Hotel and Restaurants'\n",
      " 'Foods,Dairy and Beverages' 'Machineries and Instrument' 'Recruitment'\n",
      " 'Education' 'Travel and Tourism' 'Hotel and Restaurants'\n",
      " 'Foods,Dairy and Beverages' 'Foods,Dairy and Beverages'\n",
      " 'Fashion and Beauty' 'Entertainment' 'Household and Office' 'Education'\n",
      " 'Household and Office' 'Banking Insurance and Financial Services'\n",
      " 'Machineries and Instrument' 'Recruitment' 'Arts' 'Agriculture'\n",
      " 'Machineries and Instrument' 'Recruitment' 'Engineering and Technology'\n",
      " 'Household and Office' 'Health and Medicine'\n",
      " 'Banking Insurance and Financial Services' 'Travel and Tourism' 'Arts'\n",
      " 'Household and Office' 'Arts' 'Machineries and Instrument' 'Agriculture'\n",
      " 'Agriculture' 'Construction' 'Arts' 'Construction'\n",
      " 'Foods,Dairy and Beverages' 'Foods,Dairy and Beverages'\n",
      " 'Health and Medicine' 'Sports' 'Arts' 'Household and Office'\n",
      " 'Household and Office' 'Sports' 'Health and Medicine' 'Entertainment'\n",
      " 'Construction' 'Travel and Tourism' 'Agriculture' 'Construction'\n",
      " 'Agriculture' 'Banking Insurance and Financial Services'\n",
      " 'Engineering and Technology' 'Agriculture' 'Arts' 'Recruitment' 'Sports'\n",
      " 'Fashion and Beauty' 'Household and Office' 'Health and Medicine'\n",
      " 'Health and Medicine' 'Education' 'Household and Office'\n",
      " 'Hotel and Restaurants' 'Energy and Environment' 'Construction'\n",
      " 'Banking Insurance and Financial Services' 'Sports' 'Travel and Tourism'\n",
      " 'Recruitment' 'Travel and Tourism' 'Construction'\n",
      " 'Energy and Environment' 'Entertainment' 'Education'\n",
      " 'Hotel and Restaurants' 'Household and Office' 'Travel and Tourism'\n",
      " 'Sports' 'Travel and Tourism' 'Foods,Dairy and Beverages'\n",
      " 'Hotel and Restaurants' 'Foods,Dairy and Beverages'\n",
      " 'Machineries and Instrument' 'Engineering and Technology'\n",
      " 'Hotel and Restaurants' 'Sports' 'Sports' 'Education' 'Construction'\n",
      " 'Arts' 'Construction' 'Recruitment' 'Fashion and Beauty'\n",
      " 'Banking Insurance and Financial Services' 'Entertainment'\n",
      " 'Fashion and Beauty' 'Hotel and Restaurants' 'Energy and Environment'\n",
      " 'Household and Office' 'Health and Medicine' 'Recruitment'\n",
      " 'Entertainment' 'Entertainment' 'Sports' 'Construction' 'Arts'\n",
      " 'Recruitment' 'Household and Office' 'Sports' 'Fashion and Beauty'\n",
      " 'Household and Office' 'Arts' 'Arts' 'Entertainment' 'Fashion and Beauty'\n",
      " 'Banking Insurance and Financial Services' 'Sports' 'Arts' 'Agriculture'\n",
      " 'Sports' 'Arts' 'Health and Medicine' 'Entertainment' 'Sports'\n",
      " 'Fashion and Beauty' 'Sports' 'Sports' 'Entertainment' 'Entertainment'\n",
      " 'Machineries and Instrument' 'Fashion and Beauty' 'Agriculture'\n",
      " 'Machineries and Instrument' 'Banking Insurance and Financial Services'\n",
      " 'Foods,Dairy and Beverages' 'Fashion and Beauty']\n",
      "accuracy 0.9190140845070423\n",
      "                                          precision    recall  f1-score   support\n",
      "\n",
      "                             Recruitment       0.96      0.96      0.96        50\n",
      "               Foods,Dairy and Beverages       0.90      0.96      0.93        48\n",
      "                      Fashion and Beauty       0.96      0.94      0.95        49\n",
      "              Machineries and Instrument       0.91      0.89      0.90        45\n",
      "                      Travel and Tourism       0.90      0.86      0.88        50\n",
      "                  Energy and Environment       1.00      0.98      0.99        48\n",
      "                             Agriculture       0.78      0.84      0.81        37\n",
      "                     Health and Medicine       0.85      0.80      0.83        51\n",
      "                           Constructions       0.98      0.88      0.93        59\n",
      "Banking Insurance and Financial Services       0.92      0.95      0.94        63\n",
      "                   Hotel and Restaurants       0.89      0.79      0.84        52\n",
      "                               Education       0.92      1.00      0.96        47\n",
      "                           Entertainment       0.90      1.00      0.95        44\n",
      "                                  Sports       0.93      0.87      0.90        47\n",
      "             Engineering  and Technology       0.85      0.89      0.87        53\n",
      "                    Household and Office       0.94      1.00      0.97        58\n",
      "              Machineries and Instrument       1.00      1.00      1.00        51\n",
      "\n",
      "                                accuracy                           0.92       852\n",
      "                               macro avg       0.92      0.92      0.92       852\n",
      "                            weighted avg       0.92      0.92      0.92       852\n",
      "\n"
     ]
    }
   ],
   "source": [
    "from sklearn.naive_bayes import MultinomialNB\n",
    "from sklearn.pipeline import Pipeline\n",
    "from sklearn.feature_extraction.text import TfidfTransformer\n",
    "\n",
    "from sklearn.feature_extraction.text import CountVectorizer, TfidfVectorizer\n",
    "\n",
    "from sklearn.metrics import accuracy_score, confusion_matrix\n",
    "\n",
    "my_tags = ['Recruitment',\n",
    "           'Foods,Dairy and Beverages',\n",
    "           'Fashion and Beauty',\n",
    "           'Machineries and Instrument',\n",
    "           'Travel and Tourism',\n",
    "           'Energy and Environment',\n",
    "           'Agriculture',\n",
    "           'Health and Medicine',\n",
    "           'Constructions',\n",
    "           'Banking Insurance and Financial Services',\n",
    "           'Hotel and Restaurants',\n",
    "           'Education',\n",
    "           'Entertainment',\n",
    "           'Sports',\n",
    "           'Engineering  and Technology',\n",
    "           'Household and Office',\n",
    "           'Machineries and Instrument'\n",
    "           \n",
    "          ]\n",
    "\n",
    "\n",
    "nb = Pipeline([('vect', CountVectorizer()),\n",
    "               ('tfidf', TfidfTransformer()),\n",
    "               ('clf', MultinomialNB(alpha=.01)),\n",
    "              ])\n",
    "nb.fit(X_train, y_train)\n",
    "\n",
    "%time\n",
    "from sklearn.metrics import classification_report\n",
    "y_pred = nb.predict(X_test)\n",
    "print(y_pred)\n",
    "print('accuracy %s' % accuracy_score(y_pred, y_test))\n",
    "print(classification_report(y_test, y_pred,target_names=my_tags))"
   ]
  },
  {
   "cell_type": "code",
   "execution_count": null,
   "metadata": {},
   "outputs": [],
   "source": []
  },
  {
   "cell_type": "markdown",
   "metadata": {},
   "source": [
    "# Predict New Content Category"
   ]
  },
  {
   "cell_type": "code",
   "execution_count": 20,
   "metadata": {},
   "outputs": [],
   "source": [
    "ToPredict= ['Hello from the otherside song released today listen']"
   ]
  },
  {
   "cell_type": "code",
   "execution_count": 21,
   "metadata": {},
   "outputs": [
    {
     "data": {
      "text/plain": [
       "'Hello from the otherside song released today listen'"
      ]
     },
     "execution_count": 21,
     "metadata": {},
     "output_type": "execute_result"
    }
   ],
   "source": [
    "str1 = ''.join(str(e) for e in ToPredict)\n",
    "str1"
   ]
  },
  {
   "cell_type": "code",
   "execution_count": 22,
   "metadata": {},
   "outputs": [],
   "source": [
    "ToPredict=clean_text(str1)"
   ]
  },
  {
   "cell_type": "code",
   "execution_count": 23,
   "metadata": {},
   "outputs": [
    {
     "data": {
      "text/plain": [
       "array(['Arts'], dtype='<U40')"
      ]
     },
     "execution_count": 23,
     "metadata": {},
     "output_type": "execute_result"
    }
   ],
   "source": [
    "nb.predict([ToPredict])"
   ]
  },
  {
   "cell_type": "code",
   "execution_count": null,
   "metadata": {},
   "outputs": [],
   "source": []
  },
  {
   "cell_type": "markdown",
   "metadata": {},
   "source": [
    "# Serializing the model"
   ]
  },
  {
   "cell_type": "code",
   "execution_count": 24,
   "metadata": {},
   "outputs": [],
   "source": [
    "\n",
    "import pickle\n",
    "\n",
    "filename = 'finalized_model.sav'\n",
    "pickle.dump(nb, open(filename, 'wb'))\n",
    " \n",
    "# some time later...\n",
    " \n"
   ]
  },
  {
   "cell_type": "markdown",
   "metadata": {},
   "source": [
    "# Loading Serialized Model and Prediction"
   ]
  },
  {
   "cell_type": "code",
   "execution_count": 25,
   "metadata": {},
   "outputs": [
    {
     "name": "stdout",
     "output_type": "stream",
     "text": [
      "['Fashion and Beauty']\n"
     ]
    }
   ],
   "source": [
    "# load the model from disk\n",
    "loaded_model = pickle.load(open(filename, 'rb'))\n",
    "loaded_model\n",
    "result = loaded_model.predict(['Intelligent skin color that supports resilience and radiance'])\n",
    "print(result)"
   ]
  },
  {
   "cell_type": "markdown",
   "metadata": {},
   "source": [
    "# Using Logistic Regression and Word2Vec\n"
   ]
  },
  {
   "cell_type": "code",
   "execution_count": 26,
   "metadata": {},
   "outputs": [
    {
     "name": "stderr",
     "output_type": "stream",
     "text": [
      "c:\\users\\user\\appdata\\local\\programs\\python\\python37\\lib\\site-packages\\smart_open\\smart_open_lib.py:398: UserWarning: This function is deprecated, use smart_open.open instead. See the migration notes for details: https://github.com/RaRe-Technologies/smart_open/blob/master/README.rst#migrating-to-the-new-open-function\n",
      "  'See the migration notes for details: %s' % _MIGRATION_NOTES_URL\n"
     ]
    },
    {
     "data": {
      "text/plain": [
       "['Memorial_Hospital',\n",
       " 'Seniors',\n",
       " 'memorandum',\n",
       " 'elephant',\n",
       " 'Trump',\n",
       " 'Census',\n",
       " 'pilgrims',\n",
       " 'De',\n",
       " 'Dogs',\n",
       " '###-####_ext',\n",
       " 'chaotic',\n",
       " 'forgive',\n",
       " 'scholar',\n",
       " 'Lottery',\n",
       " 'decreasing',\n",
       " 'Supervisor',\n",
       " 'fundamentally',\n",
       " 'Fitness',\n",
       " 'abundance',\n",
       " 'Hold']"
      ]
     },
     "execution_count": 26,
     "metadata": {},
     "output_type": "execute_result"
    }
   ],
   "source": [
    "import gensim\n",
    "from gensim.models import Word2Vec\n",
    "#the following line throws error due to 32 bit python shifting to 64 bit might resolve error\n",
    "wv = gensim.models.KeyedVectors.load_word2vec_format(\"GoogleNews-vectors-negative300.bin.gz\", binary=True)\n",
    "wv.init_sims(replace=True)\n",
    "\n",
    "\n",
    "#explore some vocabularies\n",
    "from itertools import islice\n",
    "list(islice(wv.vocab, 13030, 13050))\n"
   ]
  },
  {
   "cell_type": "code",
   "execution_count": 27,
   "metadata": {},
   "outputs": [],
   "source": [
    "\n",
    "def word_averaging(wv, words):\n",
    "    all_words, mean = set(), []\n",
    "    \n",
    "    for word in words:\n",
    "        if isinstance(word, np.ndarray):\n",
    "            mean.append(word)\n",
    "        elif word in wv.vocab:\n",
    "            mean.append(wv.syn0norm[wv.vocab[word].index])\n",
    "            all_words.add(wv.vocab[word].index)\n",
    "\n",
    "    if not mean:\n",
    "        logging.warning(\"cannot compute similarity with no input %s\", words)\n",
    "        # FIXME: remove these examples in pre-processing\n",
    "        return np.zeros(wv.vector_size,)\n",
    "\n",
    "    mean = gensim.matutils.unitvec(np.array(mean).mean(axis=0)).astype(np.float32)\n",
    "    return mean\n",
    "\n",
    "def  word_averaging_list(wv, text_list):\n",
    "    return np.vstack([word_averaging(wv, content) for content in text_list ])\n",
    "\n",
    "#this tokenizes text\n",
    "def w2v_tokenize_text(text):\n",
    "    tokens = []\n",
    "    for sent in nltk.sent_tokenize(text, language='english'):\n",
    "        for word in nltk.word_tokenize(sent, language='english'):\n",
    "            if len(word) < 2:\n",
    "                continue\n",
    "            tokens.append(word)\n",
    "    return tokens\n",
    "    \n",
    "train, test = train_test_split(df, test_size=0.3, random_state = 42)\n",
    "\n"
   ]
  },
  {
   "cell_type": "code",
   "execution_count": 28,
   "metadata": {},
   "outputs": [
    {
     "data": {
      "text/plain": [
       "array([list(['new', 'enviroment', 'friendly', 'elecric', 'cars', 'power', 'wonderful', 'features', 'available', 'showroom', 'ordern', 'get', 'special', 'discount', 'offers']),\n",
       "       list(['civil', 'engineer', 'building', 'minimum', 'year', 'experience']),\n",
       "       list(['ktmwashingtonktm', 'npr', '16', '1004']), ...,\n",
       "       list(['offer', 'laptop', 'limited', 'periods']),\n",
       "       list(['looking', 'tamato', 'farming', 'contact', 'us', 'different', 'procedure', 'techinques']),\n",
       "       list(['contact', 'us', 'door', 'door', 'delivery', 'kitchen', 'items'])],\n",
       "      dtype=object)"
      ]
     },
     "execution_count": 28,
     "metadata": {},
     "output_type": "execute_result"
    }
   ],
   "source": [
    "\n",
    "test_tokenized = test.apply(lambda r: w2v_tokenize_text(r['content']), axis=1).values\n",
    "train_tokenized = train.apply(lambda r: w2v_tokenize_text(r['content']), axis=1).values\n",
    "\n",
    "train_tokenized"
   ]
  },
  {
   "cell_type": "code",
   "execution_count": 29,
   "metadata": {},
   "outputs": [
    {
     "name": "stderr",
     "output_type": "stream",
     "text": [
      "c:\\users\\user\\appdata\\local\\programs\\python\\python37\\lib\\site-packages\\ipykernel_launcher.py:9: DeprecationWarning: Call to deprecated `syn0norm` (Attribute will be removed in 4.0.0, use self.vectors_norm instead).\n",
      "  if __name__ == '__main__':\n"
     ]
    }
   ],
   "source": [
    "\n",
    "X_train_word_average = word_averaging_list(wv,train_tokenized) #use as train set of post\n",
    "X_test_word_average = word_averaging_list(wv,test_tokenized)  #use as test set of words"
   ]
  },
  {
   "cell_type": "code",
   "execution_count": 30,
   "metadata": {},
   "outputs": [
    {
     "name": "stderr",
     "output_type": "stream",
     "text": [
      "c:\\users\\user\\appdata\\local\\programs\\python\\python37\\lib\\site-packages\\sklearn\\linear_model\\logistic.py:432: FutureWarning: Default solver will be changed to 'lbfgs' in 0.22. Specify a solver to silence this warning.\n",
      "  FutureWarning)\n",
      "c:\\users\\user\\appdata\\local\\programs\\python\\python37\\lib\\site-packages\\sklearn\\linear_model\\logistic.py:469: FutureWarning: Default multi_class will be changed to 'auto' in 0.22. Specify the multi_class option to silence this warning.\n",
      "  \"this warning.\", FutureWarning)\n"
     ]
    },
    {
     "name": "stdout",
     "output_type": "stream",
     "text": [
      "accuracy 0.9050880626223092\n",
      "                                          precision    recall  f1-score   support\n",
      "\n",
      "                             Recruitment       0.92      0.96      0.94        57\n",
      "               Foods,Dairy and Beverages       0.95      0.94      0.94        62\n",
      "                      Fashion and Beauty       0.90      0.93      0.91        56\n",
      "              Machineries and Instrument       0.78      0.92      0.84        53\n",
      "                      Travel and Tourism       0.92      0.90      0.91        61\n",
      "                  Energy and Environment       0.98      0.97      0.98        61\n",
      "                             Agriculture       0.76      0.89      0.82        44\n",
      "                     Health and Medicine       0.80      0.84      0.82        61\n",
      "                           Constructions       1.00      0.86      0.92        76\n",
      "Banking Insurance and Financial Services       0.92      0.92      0.92        72\n",
      "                   Hotel and Restaurants       0.95      0.88      0.91        60\n",
      "                               Education       0.92      1.00      0.96        56\n",
      "                           Entertainment       0.88      0.96      0.92        48\n",
      "                                  Sports       0.96      0.79      0.87        57\n",
      "             Engineering  and Technology       0.89      0.78      0.84        65\n",
      "                    Household and Office       0.91      0.89      0.90        75\n",
      "              Machineries and Instrument       0.95      1.00      0.97        58\n",
      "\n",
      "                                accuracy                           0.91      1022\n",
      "                               macro avg       0.90      0.91      0.90      1022\n",
      "                            weighted avg       0.91      0.91      0.91      1022\n",
      "\n"
     ]
    }
   ],
   "source": [
    "from sklearn.linear_model import LogisticRegression\n",
    "logreg = LogisticRegression(n_jobs=1, C=1e5)\n",
    "logreg = logreg.fit(X_train_word_average, train['category'])\n",
    "y_pred = logreg.predict(X_test_word_average)\n",
    "print('accuracy %s' % accuracy_score(y_pred, test.category))\n",
    "print(classification_report(test.category, y_pred,target_names=my_tags))"
   ]
  },
  {
   "cell_type": "code",
   "execution_count": 33,
   "metadata": {},
   "outputs": [
    {
     "name": "stderr",
     "output_type": "stream",
     "text": [
      "c:\\users\\user\\appdata\\local\\programs\\python\\python37\\lib\\site-packages\\ipykernel_launcher.py:9: DeprecationWarning: Call to deprecated `syn0norm` (Attribute will be removed in 4.0.0, use self.vectors_norm instead).\n",
      "  if __name__ == '__main__':\n"
     ]
    }
   ],
   "source": [
    "ah = w2v_tokenize_text('Nurture yourself with nature kalinchowk tours and travel packages available at affordable prices')\n",
    "wave= word_averaging_list(wv,ah)"
   ]
  },
  {
   "cell_type": "code",
   "execution_count": 34,
   "metadata": {},
   "outputs": [
    {
     "data": {
      "text/plain": [
       "array(['Education', 'Health and Medicine', 'Engineering and Technology',\n",
       "       'Foods,Dairy and Beverages',\n",
       "       'Banking Insurance and Financial Services', 'Health and Medicine',\n",
       "       'Sports', 'Health and Medicine',\n",
       "       'Banking Insurance and Financial Services',\n",
       "       'Engineering and Technology', 'Construction',\n",
       "       'Health and Medicine', 'Health and Medicine'], dtype=object)"
      ]
     },
     "execution_count": 34,
     "metadata": {},
     "output_type": "execute_result"
    }
   ],
   "source": [
    "logreg.predict(wave)"
   ]
  },
  {
   "cell_type": "code",
   "execution_count": null,
   "metadata": {},
   "outputs": [],
   "source": []
  }
 ],
 "metadata": {
  "kernelspec": {
   "display_name": "Python 3",
   "language": "python",
   "name": "python3"
  },
  "language_info": {
   "codemirror_mode": {
    "name": "ipython",
    "version": 3
   },
   "file_extension": ".py",
   "mimetype": "text/x-python",
   "name": "python",
   "nbconvert_exporter": "python",
   "pygments_lexer": "ipython3",
   "version": "3.7.3"
  }
 },
 "nbformat": 4,
 "nbformat_minor": 2
}
